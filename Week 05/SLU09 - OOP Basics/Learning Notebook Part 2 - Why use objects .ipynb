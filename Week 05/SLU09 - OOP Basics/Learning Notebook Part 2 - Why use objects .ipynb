{
 "cells": [
  {
   "cell_type": "markdown",
   "metadata": {},
   "source": [
    "# SLU09 Learning Notebook Part 2 – Object-Oriented Programming Basics: Why Use Objects?\n",
    "\n",
    "Up until now, we’ve been working with simple variables like `apple_name`, `apple_price`, and `apple_quantity`.  \n",
    "That’s totally fine when dealing with a single fruit — but what happens when your grocery list grows? 🍎🍌🍊\n",
    "\n",
    "Imagine trying to manage apples, bananas, oranges, and even toilet paper... 😅  \n",
    "Suddenly, you're juggling a huge number of variables, and your code becomes messy and hard to read.\n",
    "\n",
    "That’s when we need a better way to organize our data — and that’s where **objects** come in.\n",
    "\n",
    "---\n",
    "\n",
    "## What are Objects?\n",
    "\n",
    "Objects help us group **related data** and **behavior** into one organized structure.\n",
    "\n",
    "Python gives us the power to define our own objects using:\n",
    "\n",
    "- **Classes** (the blueprint)\n",
    "- **Attributes** (the data each object holds)\n",
    "- **Methods** (the actions or behaviors the object can perform)\n",
    "\n",
    "These terms might still sound a bit like fairy tale magic 🧙‍♂️, but don’t worry — we’ll break it all down step by step.\n",
    "\n",
    "---\n",
    "\n",
    "## What this notebook is all about\n",
    "\n",
    "In this part, we’ll focus on **why** objects are useful.  \n",
    "Why not just stick with functions and dictionaries? What problems do objects solve?\n",
    "\n",
    "Once you see how much cleaner and more powerful your code becomes with objects, you’ll be motivated to become a pro!\n",
    "\n",
    "In the next notebook (Part 3), we’ll dive into how to create your own objects by learning how to write classes, use attributes, and define methods.\n",
    "\n",
    "We promise — by the end of this course, you’ll be dreaming in objects, classes, and methods! 😴💻\n",
    "\n",
    "**But first things first.**"
   ]
  },
  {
   "cell_type": "markdown",
   "metadata": {},
   "source": [
    "In **Part 1** we used some Fruit objects. But realistically, it's tricky to tell what great value came from it, as the problem was so simple. \n",
    "\n",
    "In this section we're going to go a bit beyond, and make a proper little market. \n",
    "\n",
    "**Toy problem #2:** \n",
    "We want to make a little market. It will have **Fruits**, and **Toilet Paper**. \n",
    "\n",
    "Toiletpaper has slightly different properties than Fruit. \n",
    "- price \n",
    "- expiration date (which will be super long) \n",
    "- resistance \n",
    "\n",
    "We will also have the concept of a Basket. We can do a few things with it: \n",
    "- Add stuff (fruits, toilet paper) \n",
    "- Show which items will expire during the next n days \n",
    "- Remove stuff \n",
    "- Examine what's in the basket \n",
    "- Check total price \n",
    "\n",
    "_Note: We made some fruits in Notebook 1, so we'll just import them here._"
   ]
  },
  {
   "cell_type": "code",
   "execution_count": 39,
   "metadata": {},
   "outputs": [],
   "source": [
    "from utils import Fruit, Toiletpaper, Basket, get_fruits\n",
    "apples, bananas, oranges = get_fruits()   \n",
    "# feel free to ignore this cell, I'm just bringing in code we'd already defined"
   ]
  },
  {
   "cell_type": "markdown",
   "metadata": {},
   "source": [
    "Let's start by making two types of toilet paper, one simple, and one luxurious.  \n",
    "\n",
    "You will notice that the attributes are slightly different from those of Fruits, as Toilet paper has `thickness`, which would not make sense in a Fruit. "
   ]
  },
  {
   "cell_type": "code",
   "execution_count": 40,
   "metadata": {},
   "outputs": [],
   "source": [
    "luxurious_toilet_paper = Toiletpaper(name='Smooth and dry toilet paper',\n",
    "                                 thickness='Tripple leaf', \n",
    "                                 price_per_unit=50, \n",
    "                                 days_until_expired=2000, \n",
    "                                 nr_units=1)\n",
    "\n",
    "basic_toilet_paper = Toiletpaper(name='Basic toilet paper',\n",
    "                                 thickness='Single leaf', \n",
    "                                 price_per_unit=3, \n",
    "                                 days_until_expired=365, \n",
    "                                 nr_units=1)"
   ]
  },
  {
   "cell_type": "markdown",
   "metadata": {},
   "source": [
    "You may have wondered why we would bother to have a `name` argument, and not just use the name of the variable. \n",
    "\n",
    "The simple answer is that you can't print the name of the variable, so if you add `basic_toilet_paper` to a list or anything else, you will struggle to figure out what it was. \n",
    "\n",
    "So it's always a good idea to have a name. "
   ]
  },
  {
   "cell_type": "code",
   "execution_count": 41,
   "metadata": {},
   "outputs": [
    {
     "name": "stdout",
     "output_type": "stream",
     "text": [
      "<utils.Toiletpaper object at 0x0000026EEE97BE50>\n"
     ]
    }
   ],
   "source": [
    "# not very useful, we can only see that it is an instance of Toiletpaper\n",
    "print(basic_toilet_paper) "
   ]
  },
  {
   "cell_type": "code",
   "execution_count": 42,
   "metadata": {},
   "outputs": [
    {
     "name": "stdout",
     "output_type": "stream",
     "text": [
      "Basic toilet paper\n"
     ]
    }
   ],
   "source": [
    "# Quite clear! \n",
    "print(basic_toilet_paper.name) "
   ]
  },
  {
   "cell_type": "markdown",
   "metadata": {},
   "source": [
    "Great, now for our basket. We will create a basket called `my_basket`, and will use it to pick up some fruits and toilet paper. We will then use some cool \"basket\" specific methods to calculate prices, and to see if any items are about to expire. "
   ]
  },
  {
   "cell_type": "code",
   "execution_count": 43,
   "metadata": {},
   "outputs": [],
   "source": [
    "# create the basket (this is called \"instantiate\", you'll hear this word around)\n",
    "my_basket = Basket()"
   ]
  },
  {
   "cell_type": "code",
   "execution_count": 44,
   "metadata": {},
   "outputs": [],
   "source": [
    "# add some apples \n",
    "my_basket.add_item(apples)"
   ]
  },
  {
   "cell_type": "code",
   "execution_count": 45,
   "metadata": {},
   "outputs": [],
   "source": [
    "# add some bananas \n",
    "my_basket.add_item(bananas)"
   ]
  },
  {
   "cell_type": "code",
   "execution_count": 46,
   "metadata": {},
   "outputs": [],
   "source": [
    "# add some oranges \n",
    "my_basket.add_item(oranges)"
   ]
  },
  {
   "cell_type": "markdown",
   "metadata": {},
   "source": [
    "So what does our basket look like now? "
   ]
  },
  {
   "cell_type": "code",
   "execution_count": 47,
   "metadata": {},
   "outputs": [
    {
     "data": {
      "text/plain": [
       "<utils.Basket at 0x26eee97abf0>"
      ]
     },
     "execution_count": 47,
     "metadata": {},
     "output_type": "execute_result"
    }
   ],
   "source": [
    "my_basket"
   ]
  },
  {
   "cell_type": "markdown",
   "metadata": {},
   "source": [
    "Oh right, we are just calling the object, so it's just telling us where it is in memory.   \n",
    "\n",
    "Fortunately, the basket has a cool method (a function that \"lives in the class\") for this: "
   ]
  },
  {
   "cell_type": "code",
   "execution_count": 48,
   "metadata": {},
   "outputs": [
    {
     "name": "stdout",
     "output_type": "stream",
     "text": [
      "The total price is 28\n",
      "- 10 apples (total price 10)\n",
      "- 6 bananas (total price 12)\n",
      "- 2 oranges (total price 6)\n"
     ]
    }
   ],
   "source": [
    "my_basket.examine_basket()   # <-- examine_basket is a method that all baskets share"
   ]
  },
  {
   "cell_type": "markdown",
   "metadata": {},
   "source": [
    "Nice. Now, time to get some wonderfull, tripple leaf toilet paper! "
   ]
  },
  {
   "cell_type": "code",
   "execution_count": 49,
   "metadata": {},
   "outputs": [],
   "source": [
    "# add the toilet paper! \n",
    "my_basket.add_item(luxurious_toilet_paper)"
   ]
  },
  {
   "cell_type": "code",
   "execution_count": 50,
   "metadata": {},
   "outputs": [
    {
     "name": "stdout",
     "output_type": "stream",
     "text": [
      "The total price is 78\n",
      "- 10 apples (total price 10)\n",
      "- 6 bananas (total price 12)\n",
      "- 2 oranges (total price 6)\n",
      "- 1 Smooth and dry toilet paper (total price 50)\n"
     ]
    }
   ],
   "source": [
    "my_basket.examine_basket()"
   ]
  },
  {
   "cell_type": "markdown",
   "metadata": {},
   "source": [
    "Oh my, we are already at 78 euros? We probably should get rid of this crazy expensive toilet paper then, and replace it with some basic stuff: "
   ]
  },
  {
   "cell_type": "code",
   "execution_count": 51,
   "metadata": {},
   "outputs": [],
   "source": [
    "my_basket.remove_item(luxurious_toilet_paper)\n",
    "my_basket.add_item(basic_toilet_paper)"
   ]
  },
  {
   "cell_type": "code",
   "execution_count": 52,
   "metadata": {},
   "outputs": [
    {
     "name": "stdout",
     "output_type": "stream",
     "text": [
      "The total price is 31\n",
      "- 10 apples (total price 10)\n",
      "- 6 bananas (total price 12)\n",
      "- 2 oranges (total price 6)\n",
      "- 1 Basic toilet paper (total price 3)\n"
     ]
    }
   ],
   "source": [
    "my_basket.examine_basket()"
   ]
  },
  {
   "cell_type": "markdown",
   "metadata": {},
   "source": [
    "Great, we're almost done. I'm just a bit worried that some of the fruit may be about to expire... let's take a quick look: "
   ]
  },
  {
   "cell_type": "code",
   "execution_count": 53,
   "metadata": {},
   "outputs": [
    {
     "name": "stdout",
     "output_type": "stream",
     "text": [
      "The item bananas will expire in 7 days\n"
     ]
    }
   ],
   "source": [
    "my_basket.check_for_items_close_to_expire(10)"
   ]
  },
  {
   "cell_type": "markdown",
   "metadata": {},
   "source": [
    "Ah, got it. Then let's replace the bananas with some more oranges. "
   ]
  },
  {
   "cell_type": "code",
   "execution_count": 54,
   "metadata": {},
   "outputs": [],
   "source": [
    "my_basket.remove_item(bananas)\n",
    "my_basket.add_item(oranges)"
   ]
  },
  {
   "cell_type": "code",
   "execution_count": 55,
   "metadata": {},
   "outputs": [
    {
     "name": "stdout",
     "output_type": "stream",
     "text": [
      "The total price is 25\n",
      "- 10 apples (total price 10)\n",
      "- 2 oranges (total price 6)\n",
      "- 1 Basic toilet paper (total price 3)\n",
      "- 2 oranges (total price 6)\n"
     ]
    }
   ],
   "source": [
    "my_basket.examine_basket()"
   ]
  },
  {
   "cell_type": "markdown",
   "metadata": {},
   "source": [
    "### So, when are objects useful?\n",
    "\n",
    "Objects aren’t always necessary — and that’s okay! But they *shine* in certain situations:\n",
    "\n",
    "- When you need to **store state** (i.e. keep track of information over time), like a basket keeping track of products.\n",
    "- When you’re working with **many similar \"things\"** that share the same structure and behavior — like fruits, cars, users, or monsters in a game.\n",
    "\n",
    "Yes, you *can* do everything with functions, lists, and dictionaries...  \n",
    "But as your code grows, it gets repetitive, messy, and harder to maintain.\n",
    "\n",
    "Objects help you organize your data and logic **together** in a clean, reusable way, making your code easier to read, extend, and debug. 🍎🍌🍊\n",
    "\n",
    "❌ The Messy Way – Using dictionaries\n",
    "```python\n",
    "my_fruits_dict = {\n",
    "    'apples': {\n",
    "        \"name\": 'apples',\n",
    "        \"price_per_unit\": 1.0,\n",
    "        \"number_of_units\": 5,\n",
    "        \"days_until_expired\": 20\n",
    "    },\n",
    "    'bananas': {\n",
    "        \"name\": 'bananas',\n",
    "        \"price_per_unit\": 1.5,\n",
    "        \"number_of_units\": 6,\n",
    "        \"days_until_expired\": 10\n",
    "    }\n",
    "}\n",
    "\n",
    "def calculate_price(fruit):\n",
    "    return fruit[\"price_per_unit\"] * fruit[\"number_of_units\"]\n",
    "\n",
    "print(\"Apples total price:\", calculate_price(my_fruits_dict[\"apples\"]))\n",
    "print(\"Bananas total price:\", calculate_price(my_fruits_dict[\"bananas\"]))\n",
    "```\n",
    "It works. But it's fragile and repetitive. Every time you want to do anything, you need to remember exact dictionary keys like \"`price_per_unit`\" or \"`number_of_units`\". If you make a typo, Python won't help you.\n",
    "\n",
    "✅ The Clean Way – Using objects\n",
    "Let’s refactor this with a Fruit class:\n",
    "```python\n",
    "class Fruit:\n",
    "    def __init__(self, name, price_per_unit, number_of_units, days_until_expired):\n",
    "        self.name = name\n",
    "        self.price_per_unit = price_per_unit\n",
    "        self.number_of_units = number_of_units\n",
    "        self.days_until_expired = days_until_expired\n",
    "\n",
    "    def calculate_price(self):\n",
    "        return self.price_per_unit * self.number_of_units\n",
    "\n",
    "# Now we create fruit objects\n",
    "apple = Fruit(\"apples\", 1.0, 5, 20)\n",
    "banana = Fruit(\"bananas\", 1.5, 6, 10)\n",
    "\n",
    "print(\"Apples total price:\", apple.calculate_price())\n",
    "print(\"Bananas total price:\", banana.calculate_price())\n",
    "```\n",
    "\n",
    "**Why is this better?**\n",
    "- You don’t need to remember dictionary keys like \"`price_per_unit`\" — just use `apple.price_per_unit`\n",
    "- You can easily reuse the class for any fruit\n",
    "- You can **add behavior** directly to the object (`calculate_price` is now a method!)\n",
    "- Your code is more readable, reusable, and robust"
   ]
  },
  {
   "cell_type": "markdown",
   "metadata": {},
   "source": [
    "##### Now off to exercise 3! "
   ]
  }
 ],
 "metadata": {
  "kernelspec": {
   "display_name": ".venv",
   "language": "python",
   "name": "python3"
  },
  "language_info": {
   "codemirror_mode": {
    "name": "ipython",
    "version": 3
   },
   "file_extension": ".py",
   "mimetype": "text/x-python",
   "name": "python",
   "nbconvert_exporter": "python",
   "pygments_lexer": "ipython3",
   "version": "3.10.11"
  }
 },
 "nbformat": 4,
 "nbformat_minor": 2
}

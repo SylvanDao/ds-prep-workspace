{
 "cells": [
  {
   "cell_type": "markdown",
   "metadata": {},
   "source": [
    "# SLU09 Learning Notebook Part 1– Object-Oriented Programming Basics: What Are Objects?\n",
    "\n",
    "In this notebook, we’ll explore one of the most important concepts in programming: **Object-Oriented Programming (OOP)**. You’ll learn why we use objects, how they help us structure data, and what makes them different from simpler data types like dictionaries or lists.\n",
    "\n",
    "## What is an Object?\n",
    "\n",
    "In Python, **an object is a collection of data and behaviors that belong together** .\n",
    "\n",
    "Think of an object as something that has:\n",
    "- **Attributes** – the data that describes it (e.g., a name, a color, a price).\n",
    "- **Methods** – the actions it can perform (e.g., calculate a total price, display itself).\n",
    "\n",
    "Objects are created from **classes**, which are like blueprints for building specific types of data.\n",
    "\n",
    "We are slowly going to explain this concepts, so please stay with us and trust the process. You got this! \n",
    "\n",
    "```python\n",
    "# A very simple object\n",
    "class Dog:    \n",
    "    def __init__(self, name):\n",
    "        self.name = name\n",
    "\n",
    "    def bark(self):\n",
    "        print(f\"{self.name} says woof!\")\n",
    "\n",
    "my_dog = Dog(\"Luna\") # \n",
    "my_dog.bark()  # Output: Luna says woof!\n",
    "```\n",
    "---\n",
    "\n",
    "## The Fruit Stand: A Good Example To Start with\n",
    "\n",
    "Let’s say you’re working at a supermarket (a **very disorganized** one), and you need to store information about some fruits in Python.\n",
    "\n",
    "Here’s one way to do it:\n",
    "\n"
   ]
  },
  {
   "cell_type": "code",
   "execution_count": 12,
   "metadata": {},
   "outputs": [],
   "source": [
    "my_fruits_dict = {\n",
    "    'apples': {\n",
    "        \"name\": 'apples',\n",
    "        \"price_per_unit\": 1,\n",
    "        \"number_of_units\": 10,\n",
    "        \"days_until_expired\": 25\n",
    "    },\n",
    "    'bananas': {\n",
    "        \"name\": 'banana',\n",
    "        \"price_per_unit\": 2,\n",
    "        \"number_of_units\": 6,\n",
    "        \"days_until_expired\": 15\n",
    "    }, \n",
    "    'oranges': {\n",
    "        \"name\": 'orange',\n",
    "        \"price_per_unit\": 3,\n",
    "        \"number_of_units\": 2,\n",
    "        \"days_until_expired\": 20 \n",
    "    },\n",
    "}\n"
   ]
  },
  {
   "cell_type": "markdown",
   "metadata": {},
   "source": [
    "So far so good... but let’s say you want to write a function to print fruit details.\n",
    "\n",
    "```python\n",
    "def print_fruit(fruit_dict):\n",
    "    print(f\"{fruit_dict['name'].capitalize()} is {fruit_dict['price_per_unit']}, weighs {fruit_dict['weight']}g and will expire in {fruit_dict['days_until_expired']} days.\")\n",
    "```\n",
    "\n",
    "That works. But what if you want to:\n",
    "\n",
    "- Track 200 different fruits.\n",
    "- Add behavior like calculating total price based on weight.\n",
    "- Ensure consistency (e.g., `weight` is always a number).\n",
    "- Reuse this structure in other parts of your code.\n",
    "\n",
    "It gets **messy, repetitive**, and **hard** to maintain.\n",
    "\n",
    "The issue is that all \"fruits\" share certain properties (price, expiry date...), but Python does not know it. We are saying that oranges are **entries in a dictionary**. What we want to say is \"oranges are fruits\".  \n",
    "\n",
    "Wouldn't it be great if Python knew what a **Fruit** is?\n",
    "\n",
    "We could just create a `Fruit` once and then generate new ones like this:\n",
    "```python\n",
    "apple = Fruit(\"apple\", \"red\", 120, 2.5)\n",
    "banana = Fruit(\"banana\", \"yellow\", 100, 1.8)\n",
    "```\n",
    "\n",
    "This is what **Object-Oriented Programming** is all about."
   ]
  },
  {
   "cell_type": "markdown",
   "metadata": {},
   "source": [
    "### Bring in the objects! \n",
    "\n",
    "In this notebook we will just illustrate what **objects** look like without getting into any detail. Don't worry, in notebook 2 and 3 you'll understand all about them, this one is just for you to get a vague idea of why objects exist.\n",
    "\n",
    "So, back to our example: What we need is something which is a `Fruit`. This thing would always have a `name`, a `price_per_unit`, a `number_of_units`, and `days_until_expired`. \n",
    "\n",
    "Something like... This! "
   ]
  },
  {
   "cell_type": "code",
   "execution_count": 13,
   "metadata": {},
   "outputs": [],
   "source": [
    "from utils import Fruit"
   ]
  },
  {
   "cell_type": "markdown",
   "metadata": {},
   "source": [
    "What is this Fruit? It's a `Class`. We will use this class to make different fruits, which will all share a bunch of properties. \n",
    "\n",
    "First, let's just take a look at the Fruit class:"
   ]
  },
  {
   "cell_type": "code",
   "execution_count": 14,
   "metadata": {},
   "outputs": [
    {
     "data": {
      "text/plain": [
       "utils.Fruit"
      ]
     },
     "execution_count": 14,
     "metadata": {},
     "output_type": "execute_result"
    }
   ],
   "source": [
    "Fruit"
   ]
  },
  {
   "cell_type": "markdown",
   "metadata": {},
   "source": [
    "Well, that's kind of boring. Let's just use our \"Fruit thing\" and make some apples. "
   ]
  },
  {
   "cell_type": "code",
   "execution_count": 15,
   "metadata": {},
   "outputs": [],
   "source": [
    "apples = Fruit(name='apples', \n",
    "               price_per_unit=1, \n",
    "               nr_units=10,\n",
    "               days_until_expired=25) "
   ]
  },
  {
   "cell_type": "markdown",
   "metadata": {},
   "source": [
    "Great! Now we have an `apples` **object**, created with a `Fruit` **class**. \n",
    "\n",
    "The fundamental thing to get here is that in Python you can create **objects**, which share a bunch of properties. This is extremely useful for when you are working on something that carries lots of state (fancy word for \"information\") around. \n",
    "\n",
    "It will become more and more obvious as you see more examples. "
   ]
  },
  {
   "cell_type": "code",
   "execution_count": 16,
   "metadata": {},
   "outputs": [
    {
     "name": "stdout",
     "output_type": "stream",
     "text": [
      "1\n"
     ]
    }
   ],
   "source": [
    "# what is the price per unit of our apples? \n",
    "print(apples.price_per_unit)"
   ]
  },
  {
   "cell_type": "code",
   "execution_count": 17,
   "metadata": {},
   "outputs": [
    {
     "name": "stdout",
     "output_type": "stream",
     "text": [
      "10\n"
     ]
    }
   ],
   "source": [
    "# How many apples do we have?\n",
    "print(apples.nr_units)"
   ]
  },
  {
   "cell_type": "markdown",
   "metadata": {},
   "source": [
    "Let's create the oranges and bananas: "
   ]
  },
  {
   "cell_type": "code",
   "execution_count": 18,
   "metadata": {},
   "outputs": [],
   "source": [
    "oranges = Fruit(name='oranges', \n",
    "                price_per_unit=3, \n",
    "                nr_units=2,\n",
    "                days_until_expired=20)"
   ]
  },
  {
   "cell_type": "code",
   "execution_count": 19,
   "metadata": {},
   "outputs": [],
   "source": [
    "bananas = Fruit(name='bananas', \n",
    "                price_per_unit=2, \n",
    "                nr_units=6,\n",
    "                days_until_expired=7)"
   ]
  },
  {
   "cell_type": "markdown",
   "metadata": {},
   "source": [
    "Now we can put these 3 fruits together in a list: "
   ]
  },
  {
   "cell_type": "code",
   "execution_count": 20,
   "metadata": {},
   "outputs": [],
   "source": [
    "# this is clearly a lot easier to read\n",
    "my_fruits_list = [apples, bananas, oranges]"
   ]
  },
  {
   "cell_type": "markdown",
   "metadata": {},
   "source": [
    "Ok, up to here we've just used these objects to keep information about our fruits.  \n",
    "For the record, the `name`, `price_per_unit`, etc., are all called **attributes**.\n",
    "\n",
    "Oh, you want more nomenclature? Ok, fine...\n",
    "\n",
    "---\n",
    "\n",
    "### 🏷️ Nomenclature Time!\n",
    "\n",
    "- A `Fruit` is a **class definition**.  \n",
    "  - It is not any particular fruit and will be used to **build (instantiate)** fruits.\n",
    "\n",
    "- `apple` is an **instance of** the class `Fruit`.  \n",
    "  - It is a variable like any other, but the value it holds is that of a `Fruit` instance.\n",
    "\n",
    "- Both `apple` and `Fruit` are **objects**.  \n",
    "  - In Python, classes and their instances are both considered objects.\n",
    "\n",
    "- You **instantiate** (build) a new instance using the class name (e.g., `Fruit()`).\n",
    "\n",
    "- We write variable names that are instances of a class (like `apple`) in **lowercase**.  \n",
    "  - Never name your variable `Apple` if the class is called `Fruit`. That’s just confusing.\n",
    "\n",
    "- Both **classes and instances** have **attributes**.  \n",
    "  - For example, `apple` has an attribute called `price`.\n",
    "\n",
    "---\n",
    "\n",
    "Don’t worry about memorizing all this right now.  \n",
    "Just know where this is so you can refer back to it later when it all clicks! ✨\n"
   ]
  },
  {
   "cell_type": "markdown",
   "metadata": {},
   "source": [
    "### Methods (fancy word for functions in classes)\n",
    "But if all that we could do with classes was carry information around, that would be boring. \n",
    "\n",
    "Well, it turns out that there is more to this **Fruit thing** than meets the eye. \n",
    "\n",
    "One of the things we want to do it **calculate the price** of each of all our oranges, bananas, etc. This is something that all fruits share, so it made sense to build it into the Fruit class itself.\n",
    "And because `apples`, `oranges` and `bananas` are all `Fruit`, then they all have this ability to calculate price! \n",
    "\n",
    "**Nomenclature time!** \n",
    "Objects can have **methods**, which are functions associated with that object. Do you remember the **class Dog** from the example in the beginning, which had the function `bark`? That is actual a **method**!"
   ]
  },
  {
   "cell_type": "code",
   "execution_count": 21,
   "metadata": {},
   "outputs": [
    {
     "data": {
      "text/plain": [
       "10"
      ]
     },
     "execution_count": 21,
     "metadata": {},
     "output_type": "execute_result"
    }
   ],
   "source": [
    "apples.calculate_price()   # you will learn how to do this soon! "
   ]
  },
  {
   "cell_type": "markdown",
   "metadata": {},
   "source": [
    "Cool! So we didn't have to implement anything specific for each of them, that was all created at the `Fruit` level. Makes sense? "
   ]
  },
  {
   "cell_type": "code",
   "execution_count": 22,
   "metadata": {},
   "outputs": [
    {
     "name": "stdout",
     "output_type": "stream",
     "text": [
      "12\n",
      "6\n"
     ]
    }
   ],
   "source": [
    "print(bananas.calculate_price())\n",
    "print(oranges.calculate_price())"
   ]
  },
  {
   "cell_type": "markdown",
   "metadata": {},
   "source": [
    "### Real-World Analogy\n",
    "Let’s step away from fruit for a moment.\n",
    "\n",
    "**Imagine a Car:**\n",
    "A car has:\n",
    "- **Attributes**: brand, color, fuel level, speed.\n",
    "- **Methods**: drive, stop, refuel.\n",
    "\n",
    "You wouldn’t manage a fleet of cars using dictionaries for each one. You’d define a `Car` class and then create as many `Car` objects as you need.\n",
    "\n",
    "```python\n",
    "car1 = Car(\"Tesla\", \"white\")\n",
    "car2 = Car(\"Toyota\", \"blue\")\n",
    "```\n",
    "\n",
    "Each object is **self-contained** and **knows how to act like a car**. This is much more organized and scalable."
   ]
  },
  {
   "cell_type": "markdown",
   "metadata": {},
   "source": [
    "Ok, enough fruits and cars for now. Go to your exercise notebook and do Exercises 1 and 2! **Get Fruity!  **"
   ]
  }
 ],
 "metadata": {
  "kernelspec": {
   "display_name": ".venv",
   "language": "python",
   "name": "python3"
  },
  "language_info": {
   "codemirror_mode": {
    "name": "ipython",
    "version": 3
   },
   "file_extension": ".py",
   "mimetype": "text/x-python",
   "name": "python",
   "nbconvert_exporter": "python",
   "pygments_lexer": "ipython3",
   "version": "3.10.11"
  }
 },
 "nbformat": 4,
 "nbformat_minor": 4
}

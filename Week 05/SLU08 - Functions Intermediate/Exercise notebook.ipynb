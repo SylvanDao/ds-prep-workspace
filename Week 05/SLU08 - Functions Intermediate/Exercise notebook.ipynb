{
 "cells": [
  {
   "cell_type": "markdown",
   "id": "66c9f9db",
   "metadata": {
    "deletable": false,
    "editable": false,
    "nbgrader": {
     "grade": false,
     "grade_id": "cell-4148f12107f9167b",
     "locked": true,
     "schema_version": 3,
     "solution": false,
     "task": false
    }
   },
   "source": [
    "# SLU08 - Functions Intermediate: Exercise notebook"
   ]
  },
  {
   "cell_type": "code",
   "execution_count": 13,
   "id": "1ba83d66",
   "metadata": {
    "deletable": false,
    "editable": false,
    "nbgrader": {
     "grade": false,
     "grade_id": "cell-4240e9d448c79abd",
     "locked": true,
     "schema_version": 3,
     "solution": false,
     "task": false
    }
   },
   "outputs": [],
   "source": [
    "# Make sure to run this cell or the grading won't work!\n",
    "\n",
    "import json\n",
    "import hashlib\n",
    "import inspect\n",
    "import numpy as np\n",
    "from random import randint\n",
    "from utils import check_call"
   ]
  },
  {
   "cell_type": "markdown",
   "id": "536269bb",
   "metadata": {
    "deletable": false,
    "editable": false,
    "nbgrader": {
     "grade": false,
     "grade_id": "cell-2bbc03f40e36e1e2",
     "locked": true,
     "schema_version": 3,
     "solution": false,
     "task": false
    }
   },
   "source": [
    "## Exercise 1 (ungraded): Scope Basics\n",
    "\n",
    "Before diving into code, let’s make sure you understand some key terms. In your own words, describe what the following concepts mean:\n",
    "\n",
    "1. **Scope**  \n",
    "2. **Namespace**  \n",
    "3. **Local Scope**  \n",
    "4. **Global Scope**\n",
    "\n",
    "Take a moment to reflect and write your answers below.\n",
    "\n",
    "---\n",
    "\n",
    "💡 *Hint:* If you’re unsure, revisit the Learning Notebook section on **Scopes and Namespaces**. These are important ideas that will save you a lot of debugging time later on!\n",
    "\n",
    "📌 This is an ungraded question, but it's a very important one. Feel free to discuss your definitions with the other students or instructors in Slack!"
   ]
  },
  {
   "cell_type": "markdown",
   "id": "7f8a92a9",
   "metadata": {
    "deletable": false,
    "editable": false,
    "nbgrader": {
     "grade": false,
     "grade_id": "cell-8c08c06a806b1237",
     "locked": true,
     "schema_version": 3,
     "solution": false,
     "task": false
    }
   },
   "source": [
    "1. scope "
   ]
  },
  {
   "cell_type": "markdown",
   "id": "48745737",
   "metadata": {
    "deletable": false,
    "editable": false,
    "nbgrader": {
     "grade": false,
     "grade_id": "cell-10af449a88fddca1",
     "locked": true,
     "schema_version": 3,
     "solution": false,
     "task": false
    }
   },
   "source": [
    "## Exercise 2: Scopes and Namespace\n",
    "\n",
    "Consider the code snippet below. Your job is to **identify the scope** of each variable.\n",
    "\n",
    "```python\n",
    "def welcome_user():\n",
    "    a_var = 10\n",
    "    return a_var\n",
    "\n",
    "another_var = 100\n",
    "```\n",
    "\n",
    "**Your Task:**\n",
    "Assign one of the following strings to each answer:\n",
    "- `local` → The variable is defined inside a function and only exists there.\n",
    "- `global` → The variable is defined at the top level and accessible anywhere in the script.\n",
    "\n",
    "*Think about where each variable is created and where it's accessible.*\n",
    "\n",
    "Fill in the variables:"
   ]
  },
  {
   "cell_type": "code",
   "execution_count": 11,
   "id": "af08360b",
   "metadata": {
    "deletable": false,
    "nbgrader": {
     "grade": false,
     "grade_id": "cell-954725562970a8a3",
     "locked": false,
     "schema_version": 3,
     "solution": true,
     "task": false
    }
   },
   "outputs": [],
   "source": [
    "a_var_scope = \n",
    "another_var_scope = "
   ]
  },
  {
   "cell_type": "code",
   "execution_count": 14,
   "id": "24ed0585",
   "metadata": {
    "deletable": false,
    "editable": false,
    "nbgrader": {
     "grade": true,
     "grade_id": "cell-5beb29cb41412c43",
     "locked": true,
     "points": 2,
     "schema_version": 3,
     "solution": false,
     "task": false
    }
   },
   "outputs": [
    {
     "ename": "AttributeError",
     "evalue": "'int' object has no attribute 'encode'",
     "output_type": "error",
     "traceback": [
      "\u001b[31m---------------------------------------------------------------------------\u001b[39m",
      "\u001b[31mAttributeError\u001b[39m                            Traceback (most recent call last)",
      "\u001b[36mCell\u001b[39m\u001b[36m \u001b[39m\u001b[32mIn[14]\u001b[39m\u001b[32m, line 1\u001b[39m\n\u001b[32m----> \u001b[39m\u001b[32m1\u001b[39m \u001b[38;5;28;01massert\u001b[39;00m hashlib.sha256(\u001b[43ma_var_scope\u001b[49m\u001b[43m.\u001b[49m\u001b[43mencode\u001b[49m()).hexdigest() == \u001b[33m'\u001b[39m\u001b[33m25bf8e1a2393f1108d37029b3df5593236c755742ec93465bbafa9b290bddcf6\u001b[39m\u001b[33m'\u001b[39m, \u001b[33m'\u001b[39m\u001b[33mIncorrect answer for a_var_scope, try again!\u001b[39m\u001b[33m'\u001b[39m\n\u001b[32m      2\u001b[39m \u001b[38;5;28;01massert\u001b[39;00m hashlib.sha256(another_var_scope.encode()).hexdigest() == \u001b[33m'\u001b[39m\u001b[33m8001c27439650c5c5a6b4ed94163b5ddeb4476362c71380e613fa20dfffcef50\u001b[39m\u001b[33m'\u001b[39m, \u001b[33m'\u001b[39m\u001b[33mIncorrect answer for another_var_scope, try again!\u001b[39m\u001b[33m'\u001b[39m\n\u001b[32m      3\u001b[39m \u001b[38;5;28mprint\u001b[39m(\u001b[33m'\u001b[39m\u001b[33mVery good, your answer is correct!\u001b[39m\u001b[33m'\u001b[39m)\n",
      "\u001b[31mAttributeError\u001b[39m: 'int' object has no attribute 'encode'"
     ]
    }
   ],
   "source": [
    "assert hashlib.sha256(a_var_scope.encode()).hexdigest() == '25bf8e1a2393f1108d37029b3df5593236c755742ec93465bbafa9b290bddcf6', 'Incorrect answer for a_var_scope, try again!'\n",
    "assert hashlib.sha256(another_var_scope.encode()).hexdigest() == '8001c27439650c5c5a6b4ed94163b5ddeb4476362c71380e613fa20dfffcef50', 'Incorrect answer for another_var_scope, try again!'\n",
    "print('Very good, your answer is correct!')"
   ]
  },
  {
   "cell_type": "markdown",
   "id": "466836ec",
   "metadata": {
    "deletable": false,
    "editable": false,
    "nbgrader": {
     "grade": false,
     "grade_id": "cell-0962e053143af5e9",
     "locked": true,
     "schema_version": 3,
     "solution": false,
     "task": false
    }
   },
   "source": [
    "### Exercise 3: What's going on with scopes?\n",
    "Consider the code below and try to determine what will be printed by the four print statements. **Do this without running the code** to test your understanding of variable scopes."
   ]
  },
  {
   "cell_type": "markdown",
   "id": "46df0b67",
   "metadata": {
    "deletable": false,
    "editable": false,
    "nbgrader": {
     "grade": false,
     "grade_id": "cell-4bfb6b407e350992",
     "locked": true,
     "schema_version": 3,
     "solution": false,
     "task": false
    }
   },
   "source": [
    "```python\n",
    "def parallel_universe():\n",
    "    a = 10\n",
    "    print(a)  # first print\n",
    "\n",
    "    def hello_universe():\n",
    "        print(a)  # second print\n",
    "\n",
    "    def good_morning_sunshine(a):\n",
    "        print(a)  # third print\n",
    "        a = 50\n",
    "    \n",
    "    hello_universe()\n",
    "    good_morning_sunshine(a)\n",
    "\n",
    "a = 200\n",
    "parallel_universe()\n",
    "print(a)  # fourth print\n",
    "```"
   ]
  },
  {
   "cell_type": "code",
   "execution_count": null,
   "id": "88c7953c",
   "metadata": {
    "deletable": false,
    "nbgrader": {
     "grade": false,
     "grade_id": "cell-f108f9b2b1624025",
     "locked": false,
     "schema_version": 3,
     "solution": true,
     "task": false
    }
   },
   "outputs": [],
   "source": [
    "# print_1 =\n",
    "# print_2 =\n",
    "# print_3 =\n",
    "# print_4 =\n",
    "\n",
    "# YOUR CODE HERE\n",
    "raise NotImplementedError()\n"
   ]
  },
  {
   "cell_type": "code",
   "execution_count": null,
   "id": "df42f1f3",
   "metadata": {
    "deletable": false,
    "editable": false,
    "nbgrader": {
     "grade": true,
     "grade_id": "cell-6f0bede927d6d49f",
     "locked": true,
     "points": 3,
     "schema_version": 3,
     "solution": false,
     "task": false
    }
   },
   "outputs": [],
   "source": [
    "assert hashlib.sha256(str(print_1).encode()).hexdigest() == '4a44dc15364204a80fe80e9039455cc1608281820fe2b24f1e5233ade6af1dd5', 'print_1 is not correct.'\n",
    "assert hashlib.sha256(str(print_2*2).encode()).hexdigest() == 'f5ca38f748a1d6eaf726b8a42fb575c3c71f1864a8143301782de13da2d9202b', 'print_2 is not correct.'\n",
    "assert hashlib.sha256(str(print_3*3).encode()).hexdigest() == '624b60c58c9d8bfb6ff1886c2fd605d2adeb6ea4da576068201b6c6958ce93f4', 'print_3 is not correct.'\n",
    "assert hashlib.sha256(str(print_4*4).encode()).hexdigest() == '1a1cf797fabe7f95836fabeca626907c77b3e6c9aff7c2290b396a238c69362e', 'print_4 is not correct.'\n",
    "print('Very good, your answer is correct!')"
   ]
  },
  {
   "cell_type": "markdown",
   "id": "4578b0b7",
   "metadata": {
    "deletable": false,
    "editable": false,
    "nbgrader": {
     "grade": false,
     "grade_id": "cell-976d3df09068946a",
     "locked": true,
     "schema_version": 3,
     "solution": false,
     "task": false
    }
   },
   "source": [
    "### Exercise 4:  Fancy Return Statement\n",
    "Write a function called calculate_stats that takes a list of numbers and returns both the sum and the average of the list, as a tuple.\n",
    "\n",
    "If you're feeling fancy, try writing the return statement on a single line 😉"
   ]
  },
  {
   "cell_type": "code",
   "execution_count": null,
   "id": "a5daa43c",
   "metadata": {
    "deletable": false,
    "nbgrader": {
     "grade": false,
     "grade_id": "cell-bdc3f99859e53dcd",
     "locked": false,
     "schema_version": 3,
     "solution": true,
     "task": false
    }
   },
   "outputs": [],
   "source": [
    "# Modify this function:\n",
    "def calculate_stats(numbers):\n",
    "# YOUR CODE HERE\n",
    "raise NotImplementedError()\n",
    "\n",
    "stats_sum, stats_avg = calculate_stats([1, 2, 3])"
   ]
  },
  {
   "cell_type": "code",
   "execution_count": null,
   "id": "e814bb27",
   "metadata": {
    "deletable": false,
    "editable": false,
    "nbgrader": {
     "grade": true,
     "grade_id": "cell-16341d4e8ac60c98",
     "locked": true,
     "points": 2,
     "schema_version": 3,
     "solution": false,
     "task": false
    }
   },
   "outputs": [],
   "source": [
    "assert isinstance(stats_sum, int) and isinstance(stats_avg, float), \"The returned values should be an int and a float.\"\n",
    "\n",
    "result_hash = hashlib.sha256(json.dumps((stats_sum, stats_avg)).encode()).hexdigest()\n",
    "expected_hash = \"7665a2b8868d014556eab0bf2dce92924595c18e770ff58450960f7802b8061b\"\n",
    "\n",
    "assert result_hash == expected_hash, \"Oops! The returned values are not quite right.\"\n",
    "\n",
    "print(\"Great job! Your function returns the correct sum and average.\")\n"
   ]
  },
  {
   "cell_type": "markdown",
   "id": "61843c36",
   "metadata": {
    "deletable": false,
    "editable": false,
    "nbgrader": {
     "grade": false,
     "grade_id": "cell-75805d6a7bea1c78",
     "locked": true,
     "schema_version": 3,
     "solution": false,
     "task": false
    }
   },
   "source": [
    "## Exercise 5: Default Arguments\n",
    "The function `calculate_total_price` below is used to compute the final price of a product, taking into account a discount and tax rate. Your job is to:\n",
    "- Add default values to the discount and `tax_rate` parameters:\n",
    "    - The `discount` should default to `0.`\n",
    "    - The `tax_rate` should default to `0.23` (the default VAT in Portugal at the time of writing).\n",
    "- Test the function with both default and custom values.\n",
    "\n",
    "**TASK**: Modify this function by adding default values\n",
    "\n",
    "```python\n",
    "def calculate_total_price():\n",
    "    final_price = price - discount\n",
    "    final_price *= (1 + tax_rate)\n",
    "    return round(final_price, 2)\n",
    "```"
   ]
  },
  {
   "cell_type": "code",
   "execution_count": null,
   "id": "251313be",
   "metadata": {
    "deletable": false,
    "nbgrader": {
     "grade": false,
     "grade_id": "cell-eb4e9cfc837086c7",
     "locked": false,
     "schema_version": 3,
     "solution": true,
     "task": false
    }
   },
   "outputs": [],
   "source": [
    "# Write the complete def calculate_total_price():\n",
    "# YOUR CODE HERE\n",
    "raise NotImplementedError()\n",
    "\n",
    "# Run this cell to test your function\n",
    "price_only = calculate_total_price(100)\n",
    "custom = calculate_total_price(100, discount=10, tax_rate=0.2)\n",
    "\n",
    "print(\"Price with defaults:\", price_only)\n",
    "print(\"Price with custom values:\", custom)"
   ]
  },
  {
   "cell_type": "code",
   "execution_count": null,
   "id": "86be09d7",
   "metadata": {
    "deletable": false,
    "editable": false,
    "nbgrader": {
     "grade": true,
     "grade_id": "cell-6938960a9a0f275f",
     "locked": true,
     "points": 3,
     "schema_version": 3,
     "solution": false,
     "task": false
    }
   },
   "outputs": [],
   "source": [
    "hash_price_only = hashlib.sha256(str(price_only).encode()).hexdigest()\n",
    "hash_custom = hashlib.sha256(str(custom).encode()).hexdigest()\n",
    "\n",
    "assert hash_price_only == \"0589abecb964e139e06fd64a22365653e56ca8fb6d83226d4e395cac3de94b49\", \\\n",
    "    \"Check the formula and default values for price_only.\"\n",
    "\n",
    "assert hash_custom == \"c0faa5f07166b1dfd7e5250aaedaaff87d3b9c989a010d57c28d80fe43b5e521\", \\\n",
    "    \"Custom discount and tax_rate calculation isn't correct.\"\n",
    "\n",
    "print(\"Well done! Your default arguments and calculations are correct.\")\n"
   ]
  },
  {
   "cell_type": "markdown",
   "id": "0dd7c01f",
   "metadata": {
    "deletable": false,
    "editable": false,
    "nbgrader": {
     "grade": false,
     "grade_id": "cell-7c144dac9d889360",
     "locked": true,
     "schema_version": 3,
     "solution": false,
     "task": false
    }
   },
   "source": [
    "### Exercise 6: Test your Scope knowledge\n",
    "Create a function with the following specifications:\n",
    "- Create a function called `use_global_scope` that takes two arguments\n",
    "- The first argument is called `multiply_by` and should be an integer\n",
    "- The second argument is called `a_number` and is a number\n",
    "- The function should return the value of `a_number` multiplied by `multiply_by`\n",
    "- If `multiply_by` is not an integer, the function returns `None`"
   ]
  },
  {
   "cell_type": "code",
   "execution_count": null,
   "id": "ee6ff04d",
   "metadata": {
    "deletable": false,
    "nbgrader": {
     "grade": false,
     "grade_id": "cell-677ed0e5bc6a02ac",
     "locked": false,
     "schema_version": 3,
     "solution": true,
     "task": false
    }
   },
   "outputs": [],
   "source": [
    "# YOUR CODE HERE\n",
    "raise NotImplementedError()"
   ]
  },
  {
   "cell_type": "code",
   "execution_count": null,
   "id": "9ccb7487",
   "metadata": {
    "deletable": false,
    "editable": false,
    "nbgrader": {
     "grade": true,
     "grade_id": "cell-eb4e97d47bbb5aa8",
     "locked": true,
     "points": 4,
     "schema_version": 3,
     "solution": false,
     "task": false
    }
   },
   "outputs": [],
   "source": [
    "# check function source\n",
    "sig = inspect.signature(use_global_scope)\n",
    "source = inspect.getsource(use_global_scope)\n",
    "source_lines = source.split('\\n')\n",
    "params = sig.parameters\n",
    "\n",
    "# check function name\n",
    "assert ' '.join(source_lines[0].split('(')[0].split())=='def use_global_scope', 'The function name is not correct.' \n",
    "\n",
    "# check function parameters\n",
    "assert len(params) == 2, 'The function should take two parameters.'\n",
    "assert list(params.keys())[0] == 'multiply_by', 'The name of the first parameter is not correct.'\n",
    "assert list(params.keys())[1] == 'a_number', 'The name of the second parameter is not correct.'\n",
    "\n",
    "# test function\n",
    "i1=randint(0,100)\n",
    "i2=randint(0,100)\n",
    "assert use_global_scope(i1,i2) == i1*i2, 'The function is not multiplying correctly.'\n",
    "i1=randint(0,100)\n",
    "i2=randint(0,100)/4\n",
    "assert use_global_scope(i1,i2) == i1*i2, 'The function is not multiplying correctly.'\n",
    "assert use_global_scope(1.45,6739) == None, 'If multiply_by is not an integer, the function should return None.'\n",
    "\n",
    "print('Very good, your answer is correct!')"
   ]
  },
  {
   "cell_type": "markdown",
   "id": "13a551e6",
   "metadata": {
    "deletable": false,
    "editable": false,
    "nbgrader": {
     "grade": false,
     "grade_id": "cell-b83ac1824fa58e81",
     "locked": true,
     "schema_version": 3,
     "solution": false,
     "task": false
    }
   },
   "source": [
    "### Exercise 6.2 \n",
    "Now use the function you've defined in 6.1:\n",
    "- Create a global variable called `a_number` and assign it the value of `2`.\n",
    "- Call the `use_global_scope` function, passing one positional and one keyword argument.\n",
    "- Use the global variable as the value of the `a_number` argument.\n",
    "- Use 14 as the value of the `multiply_by` argument."
   ]
  },
  {
   "cell_type": "code",
   "execution_count": null,
   "id": "c5e11957",
   "metadata": {
    "deletable": false,
    "nbgrader": {
     "grade": false,
     "grade_id": "cell-d77f348198eb2cd6",
     "locked": false,
     "schema_version": 3,
     "solution": true,
     "task": false
    }
   },
   "outputs": [],
   "source": [
    "# YOUR CODE HERE\n",
    "raise NotImplementedError()"
   ]
  },
  {
   "cell_type": "code",
   "execution_count": null,
   "id": "69394631",
   "metadata": {
    "deletable": false,
    "editable": false,
    "nbgrader": {
     "grade": true,
     "grade_id": "cell-9ea37f9eaa3577b0",
     "locked": true,
     "points": 3,
     "schema_version": 3,
     "solution": false,
     "task": false
    }
   },
   "outputs": [],
   "source": [
    "# check the a_number variable\n",
    "'a_number' in globals().keys(), 'The variable a_number does not exist.'\n",
    "assert a_number == 2, 'The value of a_number should be 2.'\n",
    "\n",
    "# check the function call\n",
    "keys_list=list(globals().keys())\n",
    "l_keys=len(keys_list)\n",
    "output=' '.join([str(globals()[keys_list[i]]) \\\n",
    "                 for i in range(l_keys-10,l_keys)])\n",
    "output_w_spaces=''.join(output.split())\n",
    "assert check_call(output_w_spaces), 'Are you calling the function as '\\\n",
    "    'specified?'\n",
    "\n",
    "print('Very good, your answer is correct!')"
   ]
  },
  {
   "cell_type": "markdown",
   "id": "a47006fe",
   "metadata": {
    "deletable": false,
    "editable": false,
    "nbgrader": {
     "grade": false,
     "grade_id": "cell-76eb6fa788b4c290",
     "locked": true,
     "schema_version": 3,
     "solution": false,
     "task": false
    }
   },
   "source": [
    "## Exercise 7: Wrap-Up Exercise: Smart Calculator\n",
    "\n",
    "🚀 Your First Smart Calculator!\n",
    "\n",
    "Functions don't just automate repetitive tasks — they allow us to **build tools** that make coding easier, faster, and more fun! 😎\n",
    "\n",
    "In this challenge, you're going to create your very own **calculator function**. But not just any calculator — a smart one that explains what it's doing.\n",
    "\n",
    "### Your task:\n",
    "Write a function called `calculator` that:\n",
    "- Accepts **two required arguments**: `num1` and `num2` (both numbers).\n",
    "- Accepts an **optional** third argument: `operator`, which defaults to `\"+\"`.\n",
    "- Returns a **tuple** with:\n",
    "  1. the calculated result\n",
    "  2. a **description string** like `\"5 + 2 = 7\"`\n",
    "\n",
    "You should support the following operators: `\"+\"`, `\"-\"`, `\"*\"`, `\"/\"`.\n",
    "\n",
    "If an unsupported operator is passed in, return:\n",
    "- `\"Invalid operator\"` as the result\n",
    "- A description string like `\"5 ? 2 = Invalid operator\"` (already given)\n",
    "\n",
    "You got this! 💪"
   ]
  },
  {
   "cell_type": "code",
   "execution_count": null,
   "id": "9e72de17",
   "metadata": {
    "deletable": false,
    "nbgrader": {
     "grade": false,
     "grade_id": "cell-e22f24afa7857f62",
     "locked": false,
     "schema_version": 3,
     "solution": true,
     "task": false
    }
   },
   "outputs": [],
   "source": [
    "# Create a calculator function that:\n",
    "# - Accepts two numbers\n",
    "# - Has an optional operator argument (default: \"+\")\n",
    "# - Returns both the result and a description string like \"5 + 2 = 7\"\n",
    "\n",
    "def calculator(num1, num2, operator=\"+\"):\n",
    "    # YOUR CODE HERE\n",
    "    raise NotImplementedError()\n",
    "    description = f\"{num1} {operator} {num2} = {result}\"\n",
    "    \n",
    "    return result, description\n",
    "    \n",
    "calc_result = calculator(10, 2, \"/\")\n",
    "print(calc_result)"
   ]
  },
  {
   "cell_type": "code",
   "execution_count": null,
   "id": "6258a936",
   "metadata": {
    "deletable": false,
    "editable": false,
    "nbgrader": {
     "grade": true,
     "grade_id": "cell-7e07021dfb20db78",
     "locked": true,
     "points": 3,
     "schema_version": 3,
     "solution": false,
     "task": false
    }
   },
   "outputs": [],
   "source": [
    "assert hashlib.sha256(str(calc_result).encode()).hexdigest() == \"723e087e68c944b5111c9894f54e31a0c27a37e202917b12116979e3642cc855\", \"Check your division logic and the format of the returned string.\"\n",
    "\n",
    "print(\"Well done! Your calculator is computing and describing the operation correctly.\")\n"
   ]
  },
  {
   "cell_type": "markdown",
   "id": "062eed1e",
   "metadata": {
    "deletable": false,
    "editable": false,
    "nbgrader": {
     "grade": false,
     "grade_id": "cell-134126b2db568265",
     "locked": true,
     "schema_version": 3,
     "solution": false,
     "task": false
    }
   },
   "source": [
    "# Submit your work!\n",
    "\n",
    "To submit your work, [follow the steps here, in the step \"Grading the Exercise Notebook\"!](https://github.com/LDSSA/ds-prep-course-2025/blob/main/docs/weekly-workflow.md#13-work-on-the-learning-units)"
   ]
  }
 ],
 "metadata": {
  "kernelspec": {
   "display_name": "Python 3 (ipykernel)",
   "language": "python",
   "name": "python3"
  },
  "language_info": {
   "codemirror_mode": {
    "name": "ipython",
    "version": 3
   },
   "file_extension": ".py",
   "mimetype": "text/x-python",
   "name": "python",
   "nbconvert_exporter": "python",
   "pygments_lexer": "ipython3",
   "version": "3.12.4"
  }
 },
 "nbformat": 4,
 "nbformat_minor": 5
}

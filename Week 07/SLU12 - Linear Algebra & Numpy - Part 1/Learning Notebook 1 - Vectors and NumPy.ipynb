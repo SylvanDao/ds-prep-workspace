{
 "cells": [
  {
   "cell_type": "markdown",
   "metadata": {},
   "source": [
    "# SLU12 - Linear Algebra & NumPy, Part 1"
   ]
  },
  {
   "cell_type": "markdown",
   "metadata": {},
   "source": [
    "### Learning Notebook 1/2 - vectors"
   ]
  },
  {
   "cell_type": "markdown",
   "metadata": {},
   "source": [
    "*Here we start with the most important concept in Linear Algebra, the vector, and learn about the NumPy library. In Learning Notebook 2/2 we extend the concept of a vector and all its properties to matrices.*"
   ]
  },
  {
   "cell_type": "markdown",
   "metadata": {},
   "source": [
    "---"
   ]
  },
  {
   "cell_type": "markdown",
   "metadata": {},
   "source": [
    "**What's in this notebook**\n",
    "\n",
    "1. [Vectors](#1.-Vectors)\n",
    "\n",
    "    1.1 [Vector definition](#1.1-Vector-definition) - vector definition, representations and __the transpose__ of a vector  \n",
    "    1.2 [Vector norm](#1.2-Vector-norm)  \n",
    "    1.3 [Vector operations: multiplication by scalar and addition](#1.3-Vector-operations:-multiplication-by-scalar-and-addition)  \n",
    "    1.4 [Linear combinations and linear independence](#1.4-Linear-combinations-and-linear-independence)  \n",
    "    1.5 [Representing all vectors in space](#1.5-Representing-all-vectors-in-space)  \n",
    "    1.6 [Dot product](#1.6-Dot-product)  \n",
    "    1.7 [Orthogonal vectors](#1.7-Orthogonal-vectors)  \n",
    "    1.8 [Vectors recap](#1.8-Vectors-recap)  \n",
    "\n",
    "\n",
    "2. [Introduction to NumPy arrays](#2.-Introduction-to-NumPy-arrays)\n",
    "\n",
    "    2.1 [The NumPy package](#2.1-The-NumPy-package)  \n",
    "    2.2 [The `ndarray`](#2.2-The-ndarray) - the numpy array, dimensions and shape of an array  \n",
    "    2.3 [Vectors and linear algebra using NumPy](#2.3-Vectors-and-linear-algebra-using-NumPy) - basic linear algebra operations on vectors"
   ]
  },
  {
   "cell_type": "markdown",
   "metadata": {},
   "source": [
    "---"
   ]
  },
  {
   "cell_type": "markdown",
   "metadata": {},
   "source": [
    "### Imports"
   ]
  },
  {
   "cell_type": "code",
   "execution_count": 2,
   "metadata": {},
   "outputs": [],
   "source": [
    "# numpy is the package we're going to learn about\n",
    "# it is a widespread convention to import numpy using the alias np\n",
    "# this convention makes your code more readable, so do use it\n",
    "import numpy as np\n",
    "\n",
    "# auxiliary stuff\n",
    "import utils"
   ]
  },
  {
   "cell_type": "markdown",
   "metadata": {},
   "source": [
    "<br>\n",
    "<img src=\"media/ds_without_linalg.jpg\" width=\"580\"/>\n",
    "<br>"
   ]
  },
  {
   "cell_type": "markdown",
   "metadata": {},
   "source": [
    "---"
   ]
  },
  {
   "cell_type": "markdown",
   "metadata": {},
   "source": [
    "### Quick disclaimer\n",
    "\n",
    "> By now you probably know a lot about programming in Python, so you deserve to take a few moments to feel proud of yourself. Do it! :)\n",
    "> \n",
    "> ...\n",
    "> \n",
    "> Feeling proud? Awesome.\n",
    "> \n",
    "> \n",
    "> Now, to actually become a real data professional, you need Mathematics. There is no possible scenario in which you become a good, responsible data scientist without a good foundation of Linear Algebra, Calculus and Statistics.\n",
    "> \n",
    ">\n",
    "> This is, of course, if you want to avoid joining the uncool, damaging side of data science. The side that fails to measure bias in the data, propagates wrongful conclusions and misuses black-box algorithms.\n",
    "\n",
    "\n",
    "\n",
    "Disclaimer done. Ready? Let's do this!!\n",
    "\n",
    "---"
   ]
  },
  {
   "cell_type": "markdown",
   "metadata": {},
   "source": [
    "### Linear Algebra in SLU12 and SLU13\n",
    "\n",
    "By the end of SLUs 12 and 13, you'll be familiar with all the linear algebra you need to read the matrix form solution to the *multiple linear regression algorithm*, the most popular starting point for machine learning students: 🙀\n",
    "\n",
    "$$ \\mathbf{\\beta} = (X^TX)^{-1}(X^T\\mathbf{y})$$\n",
    "\n",
    "Advices to navigate these SLUs:\n",
    "\n",
    "**1 - Don't rush through the materials**: linear algebra takes time, so go slowly. It's ok if one week is not enough. It will depend a lot on each person's background and familiarity with the subject\n",
    "\n",
    "**2 - Keep to the order of the sections and don't skip sections**: the sections were carefully put together in a **sequential** manner so if you skip sections you will lose important info that will be necessary later on\n",
    "\n",
    "**3 - Grab a paper and solve the (optional) *pen and paper exercises*** that appear throughout the learning notebooks. They help you stop and exercise what you have just learned as you go through the materials\n",
    "\n",
    "**4 - Reach out on Slack** if you get stuck on a concept or exercise. I definitely recommend you try to solve it on your own for a while before doing so though, as this helps with the learning process. If you can't really get there, **then** reach out."
   ]
  },
  {
   "cell_type": "markdown",
   "metadata": {},
   "source": [
    "---"
   ]
  },
  {
   "cell_type": "markdown",
   "metadata": {},
   "source": [
    "## 0. Intro"
   ]
  },
  {
   "cell_type": "markdown",
   "metadata": {},
   "source": [
    "### What is Linear Algebra?\n",
    "\n",
    "The formal definition of Linear algebra as per [Wikipedia](https://en.wikipedia.org/wiki/Linear_algebra) is that it is the branch of Mathematics concerning linear equations and functions, and how we represent them in vector spaces and matrices.\n",
    "\n",
    "A quite simplistic, yet more understandable, way of definining it would be that [linear algebra is about](https://machinelearningmastery.com/gentle-introduction-linear-algebra/) using \"arithmetic on columns of numbers called __vectors__ and arrays of numbers called __matrices__, to create new columns and arrays of numbers.\""
   ]
  },
  {
   "cell_type": "markdown",
   "metadata": {},
   "source": [
    "---"
   ]
  },
  {
   "cell_type": "markdown",
   "metadata": {},
   "source": [
    "## 1. Vectors"
   ]
  },
  {
   "cell_type": "markdown",
   "metadata": {},
   "source": [
    "<img src=\"./media/one_does_not_simply.jpg\"/>"
   ]
  },
  {
   "cell_type": "markdown",
   "metadata": {},
   "source": [
    "### Vectors in 1-Dimensional (1D) spaces"
   ]
  },
  {
   "cell_type": "markdown",
   "metadata": {},
   "source": [
    "Consider the kitten below, walking timidly at a speed of  $0.1$ m/s in order to reach his food bowl:\n",
    "\n",
    "<img src=\"./media/kitten_walking.png\" width=\"600\"/>\n",
    "\n",
    "The __velocity__ of the kitten is a quantity **defined by both a magnitude and a direction**, which we call the velocity **vector** of the kitten, $\\mathbf{v} = [0.1]$ m/s:\n",
    "- The value $0.1$ corresponds to a **magnitude** which tells us how fast the kitten is walking;\n",
    "- We know the kitten is walking in a __straight line__ to the food bowl, so we can define his **direction**.\n",
    "\n",
    "\n",
    "\n",
    "We could draw this 1D (1-dimensional) vector in a 1D [coordinate system](https://en.wikipedia.org/wiki/Coordinate_system), as follows:\n",
    "\n",
    "<img src=\"./media/kitten_vector.PNG\" width=\"200\"/>\n",
    "\n",
    "---\n",
    "\n",
    "Our kitten has now eaten all his food, and he's staring at you, asking for a refill:\n",
    "\n",
    "<img src=\"./media/kitten_stopped.png\" width=\"600\"/>\n",
    "\n",
    "As he stares at you, not making a move, we can represent his zero velocity by the zero vector $\\mathbf{v} = [0]$ m/s."
   ]
  },
  {
   "cell_type": "markdown",
   "metadata": {},
   "source": [
    "---"
   ]
  },
  {
   "cell_type": "markdown",
   "metadata": {},
   "source": [
    "### Vectors in 2-Dimensional (2D) spaces"
   ]
  },
  {
   "cell_type": "markdown",
   "metadata": {},
   "source": [
    "A **2-dimensional vector** belongs to the 2-dimensional real coordinate space, $\\mathbb{R}^2$, and we can plot it using a Cartesian coordinate system.\n",
    "\n",
    "<img src=\"./media/vector_2d.png\" width=\"240\"/>\n",
    "\n",
    "Notice that the vector $[-1, 2]$ has its tail located at the origin of the x-y plane, $(0,0)$, and its tip (head) located at the point $(-1, 2)$. To go from tail to tip, we walk 1 step leftwards (x-coordinate = -1) and 2 steps upwards (y-coordinate = 2).\n",
    "\n",
    "> 📌 In linear algebra it is standard to put the origin of the coordinate system at the root the vector."
   ]
  },
  {
   "cell_type": "markdown",
   "metadata": {},
   "source": [
    "We can draw the 2D-vector of a cyclist's velocity climbing a hill at 12 km/h, $\\mathbf{v}$, on the xy-plane, where y is parallel to the radius of the Earth:\n",
    "\n",
    "<img src=\"./media/cyclist.png\" width=\"320\"/>"
   ]
  },
  {
   "cell_type": "markdown",
   "metadata": {},
   "source": [
    "> 📝 **Pen and paper exercise 1**: Grab a pen (actually pencil+rubber might be better) and a piece of paper and draw the vectors $[-1, 2]$, $[2, -1]$ and $[1, 2]$ on the xy-plane. Notice that they all have the same *magnitude* (length) but different *direction*s."
   ]
  },
  {
   "cell_type": "markdown",
   "metadata": {},
   "source": [
    "### Vectors in 3-Dimensional (3D) spaces\n",
    "---"
   ]
  },
  {
   "cell_type": "markdown",
   "metadata": {},
   "source": [
    "A **3-dimensional vector**  belongs to the 3-dimensional real coordinate space, $\\mathbb{R}^3$. We can draw it on the xyz coordinate system, using the same logic as for the xy-plane.\n",
    "\n",
    "For example suppose you have a 3D vector given by $[2,4,3]$. To get from the tail to the tip of this vector, you would: \n",
    "- For the x coordinate, walk 2 steps parallelly to the x axis,\n",
    "- For the 2nd component (y coordinate), walk 4 steps parallelly to the y axis,\n",
    "- For the 3rd element (z coordinate), walk 3 steps parallelly to the z axis\n",
    "\n",
    "You can play with your own 3-D vectors in this applet: https://www.intmath.com/vectors/3d-space-interactive-applet.php."
   ]
  },
  {
   "cell_type": "markdown",
   "metadata": {},
   "source": [
    "---"
   ]
  },
  {
   "cell_type": "markdown",
   "metadata": {},
   "source": [
    "...So what about a **4-dimensional vector**?\n",
    "\n",
    "<img src=\"./media/brain_says_no.jpg\" width=\"380\"/><br>\n",
    "\n",
    "The human brain is not able to *visualize* more than 3 dimensions, although it's possible to overcome this limitation with some brilliant [interactive visualizations](https://ciechanow.ski/tesseract/) or [Carl Sagan](https://vimeo.com/199561184)....\n",
    "\n",
    "However, it doesn't really matter whether or not you can imagine vectors in 4D. In linear algebra you can extend properties of vectors and matrices, and the operations between them, to **any number of dimensions**."
   ]
  },
  {
   "cell_type": "markdown",
   "metadata": {},
   "source": [
    "### Vectors in $n$-dimensional spaces\n",
    "---"
   ]
  },
  {
   "cell_type": "markdown",
   "metadata": {},
   "source": [
    "Although it is an abstract concept, we can intuitively imagine all vectors with 2 dimensions as living in the 2D space. If we extend this to sets of all vectors in 3D, 4D, etc... we can define this concept in a more general manner:\n",
    "\n",
    "> **Real coordinate space**\n",
    "> \n",
    "> An $m$-dimensional vector belongs to a [real coordinate space](https://en.wikipedia.org/wiki/Real_coordinate_space) of $m$ dimensions, denoted by $\\mathbb{R}^m$, where we have the set of all different $m$-dimensional vectors."
   ]
  },
  {
   "cell_type": "markdown",
   "metadata": {},
   "source": [
    "### 1.1 Vector definition\n",
    "---"
   ]
  },
  {
   "cell_type": "markdown",
   "metadata": {},
   "source": [
    "What is a vector?"
   ]
  },
  {
   "cell_type": "markdown",
   "metadata": {},
   "source": [
    "<a name=\"vector_def\"></a>\n",
    "<div class=\"alert alert-block alert-info\">\n",
    "    A <b>$m$-dimensional vector $\\mathbf{x}$</b> is an ordered list of $m$ scalars represented as $\\mathbf{x} = \\left[x_1, x_2,..., x_m\\right]$, $x_i \\in \\mathbb{R}$. It has a <b>magnitude</b> and a <b>direction</b>.\n",
    "</div>\n",
    "\n",
    "> **Mathematical Notation explained**\n",
    "> \n",
    "> - $x_i \\in \\mathbb{R}$ means that each scalar $x_i$ in the vector belongs ($\\in$) to the set of all real numbers ($\\mathbb{R}$)\n",
    "> - $m$ belongs to the set of all positive integer numbers, $m \\in \\mathbb{Z}^+$\n",
    "> - when describing vectors we usually use square brackets `[]` and **not** round brackets `()`, although these might be used somewhere else.\n",
    "> - Vectors are usually represented by bold lowercase letters and scalars by a non-bold lowercase letter. However, you might find different notations (e.g. arrow over lowercase letter, $\\overrightarrow{v}$, or arrow and uppercase such as the [force vector](https://en.wikipedia.org/wiki/Force) $\\overrightarrow{F}$)"
   ]
  },
  {
   "cell_type": "markdown",
   "metadata": {},
   "source": [
    "Vectors can be defined **either** by their **magnitude and direction (geometrically) or** as a **list of numbers (numerically)**:"
   ]
  },
  {
   "cell_type": "markdown",
   "metadata": {},
   "source": [
    "> - **Geometrically** speaking, a vector can be visually represented by an arrow pointing in space, with a given *magnitude* (length), and a *direction*, describing where the arrow points to.  \n",
    "> - **Numerically** speaking, you can think of the same vector as an ordered list of scalars (real numbers)."
   ]
  },
  {
   "cell_type": "markdown",
   "metadata": {},
   "source": [
    "In Math everything has a clear definition, even the concept of equality. So the **Equality of vectors** is described as:\n",
    "\n",
    "> * $\\mathbf{u}$ and $\\mathbf{v}$ are equal if they have the same magnitude and direction, **which implies** that the ordered lists which represent them are equal, **element-wise**."
   ]
  },
  {
   "cell_type": "markdown",
   "metadata": {},
   "source": [
    "Lastly, there are several ways in which we can represent vectors. We can represent **the same** vector in several ways. For example, we can represent a given *4-dimensional vector* as:\n",
    "\n",
    "* an ordered list, $\\left[0,\\; -1,\\; 2.6,\\; \\sqrt{3}\\right]$, \n",
    "<br>\n",
    "<br>\n",
    "* a **row vector**,\n",
    "$\n",
    "  \\begin{bmatrix} \n",
    "  0 & -1 & 2.6 & \\sqrt{3}\\\\ \n",
    "  \\end{bmatrix}\n",
    "$, \n",
    "\n",
    "* or its **transpose**, a **column vector**,\n",
    "$\n",
    "  \\begin{bmatrix} \n",
    "  0 & -1 & 2.6 & \\sqrt{3}\\\\ \n",
    "  \\end{bmatrix}^T = \n",
    "  \\begin{bmatrix} \n",
    "  0 \\\\ \n",
    "  -1 \\\\ \n",
    "  2.6 \\\\\n",
    "  \\sqrt{3} \\\\\n",
    "  \\end{bmatrix}\n",
    "$.\n",
    "\n",
    "The relevance of the type of representation we use will become evident when we introduce matrices. For now, just know that the row representation of a vector is called the **transpose** of its column representation, and vice versa."
   ]
  },
  {
   "cell_type": "markdown",
   "metadata": {},
   "source": [
    "### 1.2 Vector norm\n",
    "---"
   ]
  },
  {
   "cell_type": "markdown",
   "metadata": {},
   "source": [
    "**Definition**"
   ]
  },
  {
   "cell_type": "markdown",
   "metadata": {},
   "source": [
    "\n",
    "<div class=\"alert alert-block alert-info\">\n",
    "    The <b>norm of an $m$-dimensional vector</b> $\\mathbf{x} = \\left[x_1, x_2, ..., x_m\\right]$, $x_i\\in \\mathbb{R}$, also known as the magnitude or length, is defined as $\\|\\mathbf{x}\\| = \\sqrt{x_1^2 + x_2^2 + ... + x_m^2}$.\n",
    "</div>"
   ]
  },
  {
   "cell_type": "markdown",
   "metadata": {},
   "source": [
    "**Explanation**"
   ]
  },
  {
   "cell_type": "markdown",
   "metadata": {},
   "source": [
    "The **magnitude** of a 2-dimensional vector, also called the **norm** or the **length**, can be determined by the [Pythagorean theorem](https://en.wikipedia.org/wiki/Pythagorean_theorem), which says that \"In a right angled triangle, the square of the hypotenuse is equal to the sum of the squares of the other two sides\".\n",
    "\n",
    "On the xy-plane below, the dashed lines represent the two other sides of a right angled triangle, and the hypothenuse corresponds to the length of the vector:\n",
    "\n",
    "<br>\n",
    "<img src=\"./media/vector_2d.png\" width=\"240\"/>\n",
    "\n",
    "We can represent the vector on the image by an ordered list: $\\mathbf{a} = [a_1, a_2]$, with components $a_1 = -1$ ($x$ coordinate) and $a_2 = 2$ ($y$ coordinate).\n",
    "\n",
    "Let's use the Pythagorean theorem to **find the norm of $\\mathbf{a}$**, $\\| a\\|$:\n",
    "\n",
    "$$\\| a\\|^2 = a_1^2 + a_2^2$$\n",
    "\n",
    "$$\\| a\\| = \\sqrt{a_1^2 + a_2^2} = \\sqrt{(-1)^2 + (2)^2} = \\sqrt{5} $$\n",
    "\n",
    "You can actually use this formula with any $m$-dimensional vector. (*It's a kind of magic...* 🎵)"
   ]
  },
  {
   "cell_type": "markdown",
   "metadata": {},
   "source": [
    "> 📝 **Pen and paper exercise 2**: Calculate the norm of the vectors $[-1, 2]$, $[2, -1]$ and $[1, 2]$, which you've drawn in the last exercise. You should find that they all have the same norm. Find one more vector with the same norm as them. \n",
    ">\n",
    "> **Notice that** there is an infinite number of 2-D vectors with the same norm (length)."
   ]
  },
  {
   "cell_type": "markdown",
   "metadata": {},
   "source": [
    "---"
   ]
  },
  {
   "cell_type": "markdown",
   "metadata": {},
   "source": [
    "### Ever asked yourself...\n",
    "\n",
    "<br>\n",
    "\n",
    "<img src=\"./media/straightforward.jpg\" width=\"380\"/>\n",
    "\n",
    "[*bad pun source*](https://math.stackexchange.com/questions/62789/what-does-linear-mean-in-linear-algebra#comment146861_62789)\n",
    "\n",
    "Now to the serious answer: linear algebra is \"linear\" because it's about linear transformations.\n",
    "\n",
    "You might remember learning about $y = mx$, the equation for the line passing through the origin $(0,0)$, in math class:"
   ]
  },
  {
   "cell_type": "code",
   "execution_count": 39,
   "metadata": {
    "scrolled": true
   },
   "outputs": [
    {
     "data": {
      "image/png": "[encoded data removed]",
      "text/plain": [
       "<Figure size 1600x400 with 3 Axes>"
      ]
     },
     "metadata": {},
     "output_type": "display_data"
    }
   ],
   "source": [
    "# run this cell and check the plots below\n",
    "utils.plot_school_functions()"
   ]
  },
  {
   "cell_type": "markdown",
   "metadata": {},
   "source": [
    "All transformations we do on our data are based on linear relations, just like the line on the **first** plot. We don't need to worry about polynomial functions, exponentials, or other evil sorceries. Only simple, beautiful, linear magic. 😍😃\n",
    "\n",
    "Simple, yet powerful.\n",
    "\n",
    "  \n",
    "   "
   ]
  },
  {
   "cell_type": "markdown",
   "metadata": {},
   "source": [
    "---"
   ]
  },
  {
   "cell_type": "markdown",
   "metadata": {},
   "source": [
    "### 1.3 Vector operations: multiplication by scalar and addition\n",
    "---"
   ]
  },
  {
   "cell_type": "markdown",
   "metadata": {},
   "source": [
    "#### 1.3.1 Multiplying a vector by a scalar"
   ]
  },
  {
   "cell_type": "markdown",
   "metadata": {},
   "source": [
    "What happens with a vector if we multiply it by a scalar?\n",
    "\n",
    "Consider the vector $\\mathbf{u}=\\begin{bmatrix}1\\\\2\\\\\\end{bmatrix}$. On the image below you can see several vectors that result from multiplying the vector $\\mathbf{u}$ by different scalars."
   ]
  },
  {
   "cell_type": "markdown",
   "metadata": {},
   "source": [
    "<br><img src=\"./media/vector_scaling.png\" width=\"400\"/>"
   ]
  },
  {
   "cell_type": "markdown",
   "metadata": {},
   "source": [
    "**Multiplying $\\mathbf{u}$ by -1:** $\\hspace{5cm}\\mathbf{v}=-1\\cdot \\mathbf{u}=-1\\cdot\\begin{bmatrix}1\\\\2\\\\\\end{bmatrix}$ $=\\begin{bmatrix}-1\\times 1\\\\-1\\times 2\\\\\\end{bmatrix}=$ $\\begin{bmatrix}-1\\\\-2\\\\\\end{bmatrix}$\n",
    "\n",
    "Multiplying a 2D vector by $-1$ causes it to rotate $180^{\\circ}$ ($\\pi$ radians) around the origin. Its *magnitude* (norm) remains the same, but the *direction* changes."
   ]
  },
  {
   "cell_type": "markdown",
   "metadata": {},
   "source": [
    "**Multiplying $\\mathbf{u}$ by 0:**$\\hspace{5cm} 0 \\cdot \\mathbf{u}=0\\cdot\\begin{bmatrix}1\\\\2\\\\\\end{bmatrix} = $ $\\begin{bmatrix}0\\\\0\\\\\\end{bmatrix}$\n",
    "\n",
    "Multiplying any vector by $0$ results in a vector with the same dimension, where all components are zero (the zero vector)."
   ]
  },
  {
   "cell_type": "markdown",
   "metadata": {},
   "source": [
    "**Multiplying $\\mathbf{u}$ by 2**$:\\hspace{5cm} \\mathbf{w}=2\\cdot \\mathbf{u}=2\\cdot\\begin{bmatrix}1\\\\2\\\\\\end{bmatrix}$ $= \\begin{bmatrix}2\\\\4\\\\\\end{bmatrix}$\n",
    "\n",
    "Multiplying a vector by a positive scalar increases its *magnitude* but does not affect its *direction*."
   ]
  },
  {
   "cell_type": "markdown",
   "metadata": {},
   "source": [
    "**Multiplying $\\mathbf{u}$ by 1:**$\\hspace{5cm} \n",
    "1\\cdot\\mathbf{u}=1\\cdot\\begin{bmatrix}1\\\\2\\\\\\end{bmatrix} = $ $\\begin{bmatrix}1\\times 1\\\\1\\times 2\\\\\\end{bmatrix} = \\begin{bmatrix}1\\\\2\\\\\\end{bmatrix} = \\mathbf{u}$\n",
    "\n",
    "Multiplying any vector by the scalar 1 does not change the vector (**identity property**)."
   ]
  },
  {
   "cell_type": "markdown",
   "metadata": {},
   "source": [
    "> Note that the dot symbol $\\cdot $ in the expressions above denotes multiplication, however as we'll see in a few sections, when it is written **between two vectors** it means **dot product** instead."
   ]
  },
  {
   "cell_type": "markdown",
   "metadata": {},
   "source": [
    "> 📝 **Pen and paper exercise 3**: Multiply the vector $\\mathbf{u}$ by the scalar -2. What happens to its *magnitude* and *direction*?"
   ]
  },
  {
   "cell_type": "markdown",
   "metadata": {},
   "source": [
    "---"
   ]
  },
  {
   "cell_type": "markdown",
   "metadata": {},
   "source": [
    "#### 1.3.2 Addition and subtraction"
   ]
  },
  {
   "cell_type": "markdown",
   "metadata": {},
   "source": [
    "To add two $m$-dimensional vectors, we simply add the corresponding components from each vector.\n",
    "\n",
    "For example, we can add vectors $\\mathbf{u} = \\begin{bmatrix} 1\\\\ 2\\\\\\end{bmatrix}$ and $\\mathbf{v} = \\begin{bmatrix} 3\\\\ 1\\\\\\end{bmatrix}$ as follows:  \n",
    "$\\hspace{.2cm} \\mathbf{w} = \\mathbf{u} + \\mathbf{v} = \\begin{bmatrix} 1\\\\ 2\\\\\\end{bmatrix} + $ $\\begin{bmatrix} 3\\\\ 1\\\\\\end{bmatrix} = $ $\\begin{bmatrix} 1 + 3\\\\ 2 + 1\\\\\\end{bmatrix} = $ $\\begin{bmatrix} 4\\\\ 3\\\\\\end{bmatrix}$\n",
    "\n",
    "**Geometrical visualization:**\n",
    "\n",
    "<img src=\"./media/vector_addition.png\" width=\"340\"/>\n",
    "\n",
    "The vectors $\\mathbf{u}$, $\\mathbf{v}$ and $\\mathbf{w}$ are plotted in the image above. Notice how we place the tail (origin) of $\\mathbf{b}$, which is equivalent to the vector $\\mathbf{v}$ (same magnitude and direction), to the tip of vector $\\mathbf{u}$. Hence we walk 3 steps rightwards (x-coordinate of $\\mathbf{v}$ = 3) and 1 step upwards (y-coordinate of $\\mathbf{v}$ = 1), getting to the tip of $\\mathbf{w}$, the result of adding $\\mathbf{u}$ and $\\mathbf{v}$.\n",
    "\n",
    "**Vector addition is commutative!**\n",
    "\n",
    "Notice that we could also start at vector $\\mathbf{v}$, add vector $\\mathbf{a}$ (the equivalent of vector $\\mathbf{u}$), and we would still get the vector $\\mathbf{w}$ as a result. This means that the **addition between vectors is commutative**. The same applies to any two or more $m$-dimensional vectors added together."
   ]
  },
  {
   "cell_type": "markdown",
   "metadata": {},
   "source": [
    "> ❗ You **cannot** add vectors with different dimensions!!\n",
    "> \n",
    "> For example, if you tried to add $[1, 2]$ with $[1, 2, 3]$, you would have no corresponding component on the 1st vector to add to the 3rd component of the second vector."
   ]
  },
  {
   "cell_type": "markdown",
   "metadata": {},
   "source": [
    "> 📝 **Pen and paper exercise 4**: Draw the vector $\\mathbf{x} = \\mathbf{u} - \\mathbf{v}$ on the xy-plane:\n",
    "> - Multiply the vector $\\mathbf{v}$ by the scalar $-1$ and draw the resulting vector, $\\mathbf{-v}$;\n",
    "> - Add $\\mathbf{-v}$ to vector $\\mathbf{u}$;"
   ]
  },
  {
   "cell_type": "markdown",
   "metadata": {
    "deletable": false,
    "editable": false
   },
   "source": [
    "**Properties of vector addition and scalar multiplication (for any $m$-dimensional vectors):**\n",
    "\n",
    "$\\;\\;\\text{1. }\\;\\; \\mathbf{u} + \\mathbf{v} = \\mathbf{v} + \\mathbf{u}$\n",
    "\n",
    "$\\;\\;\\text{2. }\\;\\; \\mathbf{u} + \\mathbf{0} = \\mathbf{u}$\n",
    "\n",
    "$\\;\\;\\text{3. }\\;\\; c\\left(\\mathbf{u} + \\mathbf{v}\\right) = c\\mathbf{u} + c\\mathbf{v},\\hspace{.2cm} c\\in \\mathbb{R}$\n",
    "\n",
    "$\\;\\;\\text{4. }\\;\\; \\left(cd\\right)\\mathbf{u} = c\\left(d\\mathbf{u}\\right),\\hspace{.2cm} c,d \\in \\mathbb{R}$\n",
    "\n",
    "$\\;\\;\\text{5. }\\;\\; \\mathbf{u} + (\\mathbf{v} + \\mathbf{w}) = (\\mathbf{u} + \\mathbf{v}) + \\mathbf{w}$\n",
    "\n",
    "$\\;\\;\\text{6. }\\;\\; \\mathbf{u} + (-\\mathbf{u}) = \\mathbf{0}$\n",
    "\n",
    "$\\;\\;\\text{7. }\\;\\; (c + d) \\mathbf{u} = c \\mathbf{u} + d \\mathbf{u}$\n",
    "\n",
    "$\\;\\;\\text{8. }\\;\\; 1\\mathbf{u} = \\mathbf{u}$"
   ]
  },
  {
   "cell_type": "markdown",
   "metadata": {},
   "source": [
    "> 📝 **Pen and paper exercise 5 (this one is for the skeptical minds)**: Choose 2 of the properties above and check their veracity.\n",
    ">\n",
    "> You can use, for example, the vectors $\\mathbf{u} = \\begin{bmatrix}1\\\\ 2\\end{bmatrix},\\;\\;$\n",
    "> $\\mathbf{v} = \\begin{bmatrix}2\\\\ 4\\end{bmatrix},\\;\\;$\n",
    "> $\\mathbf{w} = \\begin{bmatrix}0\\\\ -1\\end{bmatrix}\\;\\;$\n",
    "> and the scalars (real numbers) $c=-0.2$ and $d=\\frac{1}{4}$."
   ]
  },
  {
   "cell_type": "markdown",
   "metadata": {},
   "source": [
    "If you \"find out\" that any of the properties is wrong, I'm sorry but you probably made some error on the arithmetics along the way.\n",
    "\n",
    "Trust me, **Linear Algebra will never fail you.**"
   ]
  },
  {
   "cell_type": "markdown",
   "metadata": {},
   "source": [
    "---"
   ]
  },
  {
   "cell_type": "markdown",
   "metadata": {},
   "source": [
    "<img src=\"./media/we_will_see.gif\"/>"
   ]
  },
  {
   "cell_type": "markdown",
   "metadata": {},
   "source": [
    "---"
   ]
  },
  {
   "cell_type": "markdown",
   "metadata": {},
   "source": [
    "### 1.4 Linear combinations and linear independence\n",
    "---"
   ]
  },
  {
   "cell_type": "markdown",
   "metadata": {},
   "source": [
    "> 📌 The concept of linear (in)dependence is extremely important in data science!"
   ]
  },
  {
   "cell_type": "markdown",
   "metadata": {},
   "source": [
    "#### 1.4.1 Linear combination"
   ]
  },
  {
   "cell_type": "markdown",
   "metadata": {},
   "source": [
    "Every time we scale vectors and add them together, we're performing a **linear combination**. This is what it looks like for 2 $m$-dimensional vectors:\n",
    "\n",
    "$$c_1 \\cdot \\begin{bmatrix} u_1\\\\ u_2\\\\ ... \\\\ u_m\\\\\\end{bmatrix}+c_2\\cdot\\begin{bmatrix}v_1\\\\v_2\\\\\\dots\\\\v_m\\\\\\end{bmatrix}=\\begin{bmatrix}c_1\\cdot u_1 + c_2\\cdot v_1\\\\ c_1\\cdot u_2 + c_2\\cdot v_2\\\\ ... \\\\ c_1\\cdot u_m + c_2\\cdot v_m\\\\\\end{bmatrix},\\hspace{.2cm}  c_i\\in \\mathbb{R}$$\n",
    "\n",
    "In the *pen and paper* exercise **4**, you basically performed a linear combination between vectors using scalars $1$ and $-1$.\n",
    "\n",
    "---\n",
    "\n",
    "We can have a linear combination of $n$ vectors, as follows:\n",
    "\n",
    "$$c_1\\cdot \\mathbf{x_1} + c_2\\cdot \\mathbf{x_2} + ... + c_n\\cdot \\mathbf{x_n},\\hspace{.2cm} c_i\\in \\mathbb{R},\\hspace{.2cm}  \\mathbf{x_i}\\in\\mathbb{R}^m$$\n",
    "\n",
    "Note that $\\mathbf{x_1}, \\mathbf{x_2},..., \\mathbf{x_n}$ are **not vector components but actual vectors** (bold lowercase letter)."
   ]
  },
  {
   "cell_type": "markdown",
   "metadata": {},
   "source": [
    "---"
   ]
  },
  {
   "cell_type": "markdown",
   "metadata": {},
   "source": [
    "#### Example\n",
    "\n",
    "For $\\mathbf{v_1} = \\begin{bmatrix}1\\\\-1\\end{bmatrix}$, $\\mathbf{v_2} = \\begin{bmatrix}2\\\\2\\end{bmatrix}$ and $\\mathbf{w} = \\begin{bmatrix}4\\\\0\\end{bmatrix}$, we have $w = 2\\cdot \\mathbf{v_1} + 1\\cdot\\mathbf{v_2}$. Thus $\\mathbf{w}$ can be written as a linear combination of $\\mathbf{v_1}$ and $\\mathbf{v_2}$."
   ]
  },
  {
   "cell_type": "markdown",
   "metadata": {},
   "source": [
    "---"
   ]
  },
  {
   "cell_type": "markdown",
   "metadata": {},
   "source": [
    "#### 1.4.2 Linear independence"
   ]
  },
  {
   "cell_type": "markdown",
   "metadata": {},
   "source": [
    "**Definition**\n",
    "\n",
    "If we have two vectors $\\mathbf{a}$ and $\\mathbf{b}$, and $\\mathbf{b}$ can be expressed as $c\\cdot \\mathbf{a}, c\\in \\mathbb{R}$, we say that $\\mathbf{a}$ and $\\mathbf{b}$ are **linearly dependent**, or collinear. If either one cannot be expressed as a linear combination of the other, then we say they are **linearly independent**, or non-collinear."
   ]
  },
  {
   "cell_type": "markdown",
   "metadata": {},
   "source": [
    "**Explanation**\n",
    "\n",
    "For example, $[2, 1]$ and $[4, 2]$ are linearly dependent. You can find a constant that multiplied by one will give you the other. For example,  $[2, 1]\\times 2 = [4, 2]$ or  $[4, 2]\\times \\frac{1}{2} = [2, 1]$\n",
    "\n",
    "\n",
    "The vectors $[2, 1]$ and $[0, 1]$, on the other hand, are linearly independent. As much as you may try, you can never find a constant that multiplied by one of them will yield the other.\n",
    "\n"
   ]
  },
  {
   "cell_type": "markdown",
   "metadata": {},
   "source": [
    "---"
   ]
  },
  {
   "cell_type": "markdown",
   "metadata": {},
   "source": [
    "Generally, a set of vectors is said to be [linearly dependent](https://en.wikipedia.org/wiki/Linear_independence) **if at least one of the vectors in the set** can be defined as a **linear combination** of the others.\n",
    "\n",
    "<img src=\"./media/noted.gif\" width=\"500\"/>"
   ]
  },
  {
   "cell_type": "markdown",
   "metadata": {},
   "source": [
    "---"
   ]
  },
  {
   "cell_type": "markdown",
   "metadata": {},
   "source": [
    "### 1.5 Representing all vectors in space\n",
    "---"
   ]
  },
  {
   "cell_type": "markdown",
   "metadata": {},
   "source": [
    "<img src=\"./media/linear_combinations.png\" width=\"400\"/>\n",
    "\n",
    "In the image above we can see the resulting vectors of 4 distinct linear combinations of vectors $\\mathbf{u}=[1,2]$ and $\\mathbf{v}=[3,1]$, namely:\n",
    "\n",
    "- $1\\cdot \\mathbf{u} + 1\\cdot \\mathbf{v}$\n",
    "- $2\\cdot \\mathbf{u} + 1\\cdot \\mathbf{v}$\n",
    "- $-1\\cdot \\mathbf{u} + 1\\cdot \\mathbf{v}$\n",
    "- $1\\cdot \\mathbf{u} + (-1)\\cdot \\mathbf{v}$\n",
    "\n",
    "❗ If you had the time (*infinite time*) to plot all possible linear combinations of vectors $\\mathbf{u}$ and $\\mathbf{v}$, you would fill the entire xy-plane, and get **all 2-dimensional vectors, this is, all vectors in $\\mathbb{R}^2$**.\n",
    "\n",
    "### **But only because** you used **2** vectors in **2-D** that are **linearly independent**. 💡\n",
    "\n",
    "We could **NOT** create the set of all the 2-dimensional vectors if our vectors were **linearly Dependent**."
   ]
  },
  {
   "cell_type": "markdown",
   "metadata": {},
   "source": [
    "---"
   ]
  },
  {
   "cell_type": "markdown",
   "metadata": {},
   "source": [
    "### 🤨 Skeptics corner"
   ]
  },
  {
   "cell_type": "markdown",
   "metadata": {},
   "source": [
    "Feeling skeptic about what you just read?\n",
    "\n",
    "If this doesn't yet make sense to you, write down some linear combinations, i.e. ($c\\mathbf{u} + d\\mathbf{v}$), for the collinear vectors $\\mathbf{u}=[1,2]$ and $\\mathbf{v} = [2,4]$, varying scalars $c$ and $d$ as much as you want.\n",
    "\n",
    "As you do it, are you're getting stuck on the same line?... 😏\n",
    "\n",
    "<img src=\"./media/stuck_line.png\" width=\"400\"/>\n",
    "\n",
    "[See who got stuck on the line too](https://www.theguardian.com/politics/video/2012/aug/01/boris-johnson-stuck-zip-wire-video)"
   ]
  },
  {
   "cell_type": "markdown",
   "metadata": {},
   "source": [
    "---"
   ]
  },
  {
   "cell_type": "markdown",
   "metadata": {},
   "source": [
    "So, let's wrap it up:\n",
    "\n",
    "> We can define an $n$-dimensional space with linear combinations of $n$ linearly independent vectors:\n",
    "> \n",
    "> - in a **2D** space, we need **2 and only 2 linearly independent vectors** to define all other 2-dimensional vectors as linear combinations of these 2 vectors;\n",
    "> - in a **3D** space, we need **3 and only 3 linearly independent vectors** to define all other 3-dimensional vectors as linear combinations of these 3 vectors;\n",
    "> - and so on and so forth.\n",
    "\n",
    "This also means that, for example, if you define 3 vectors in 2-dimensional space, one of them will be a linear combination of the other two!\n",
    "\n",
    "You see, linear algebra is a minimalist: if you can use only 2 vectors to represent a 2D space, why waste a 3rd one?"
   ]
  },
  {
   "cell_type": "markdown",
   "metadata": {},
   "source": [
    "### 1.6 Dot product\n",
    "---"
   ]
  },
  {
   "cell_type": "markdown",
   "metadata": {},
   "source": [
    "#### 1.6.1 Definition"
   ]
  },
  {
   "cell_type": "markdown",
   "metadata": {},
   "source": [
    "We already know how to multiply vectors by scalars and add vectors together. But can we multiply one vector by another?  \n",
    "\n",
    "Yes we can! Actually, we can do it in [several ways](https://en.wikipedia.org/wiki/Multiplication_of_vectors). However, let's just focus on the most simple one: the **dot product**, a.k.a. the **scalar product** -- because, well, the result is a scalar."
   ]
  },
  {
   "cell_type": "markdown",
   "metadata": {},
   "source": [
    "\n",
    "<div class=\"alert alert-block alert-info\">\n",
    "    The <b>dot product</b> of two $m$-dimensional vectors $\\mathbf{u}=[u_1, u_2, ..., u_m]$ and $\\mathbf{v}=[v_1, v_2, ..., v_m]$ is a <b>scalar</b> given by $\\mathbf{u}\\cdot \\mathbf{v} = u_1 v_1 + u_2 v_2 + ... + u_m v_m$\n",
    "</div>"
   ]
  },
  {
   "cell_type": "markdown",
   "metadata": {},
   "source": [
    "Consider the vectors $\\mathbf{a} = [1, 2, 0]$ and $\\mathbf{b} = [-1, 4, -2]$. The dot product between $\\mathbf{a}$ and $\\mathbf{b}$ is:\n",
    "\n",
    "$$\\mathbf{a}\\cdot \\mathbf{b} = 1\\times (-1) + 2\\times 4 + 0\\times (-2) = -1 + 8 + 0 = 7$$"
   ]
  },
  {
   "cell_type": "markdown",
   "metadata": {},
   "source": [
    "---"
   ]
  },
  {
   "cell_type": "markdown",
   "metadata": {},
   "source": [
    "**Another way to determine the dot product**\n",
    "\n",
    "You might also find the dot product of two vectors written as $\\mathbf{u} \\cdot \\mathbf{v} = \\|u\\|\\|v\\|\\cos{\\theta} = \\|v\\|\\|u\\|\\cos{\\theta}$.\n",
    "\n",
    "This means that $\\mathbf{u} \\cdot \\mathbf{v}$ is the magnitude of $\\mathbf{v}$ times the magnitude of the component of $\\mathbf{u}$ that points along $\\mathbf{v}$, namely $\\|u\\|\\cos{\\theta}$ (projection of $\\mathbf{u}$ onto $\\mathbf{v}$):\n",
    "\n",
    "<img src=\"./media/projection_u_onto_v.png\" width=\"400\"/>\n",
    "\n",
    "We can therefore determine the angle between any two *non zero* vectors by using the relation: $\\;\\;\\;\\;\\mathbf{u} \\cdot \\mathbf{v} = \\|u\\|\\|v\\|\\cos{\\theta} \\iff \\cos{\\theta} = \\frac{\\mathbf{u} \\cdot \\mathbf{v}} {\\|u\\|\\|v\\|}$"
   ]
  },
  {
   "cell_type": "markdown",
   "metadata": {},
   "source": [
    "---"
   ]
  },
  {
   "cell_type": "markdown",
   "metadata": {},
   "source": [
    "> 📝 **Pen and paper exercise 6 (for the Math nerds)**: Find the angle $\\theta$ (in degrees or radians) between the vectors $\\mathbf{u} = \\begin{bmatrix}1\\\\ 0\\end{bmatrix}$ and $\\mathbf{v} = \\begin{bmatrix}2\\\\ 2\\sqrt{3}\\end{bmatrix}$ using the formula $\\mathbf{u} \\cdot \\mathbf{v} = \\|u\\|\\|v\\|\\cos{\\theta}$.\n",
    "> - Calculate $\\mathbf{u}\\cdot\\mathbf{v}$ using the [dot product formula](#1.6-Dot-product);\n",
    "> - Find $\\|u\\|\\|v\\|$ using the formula for the [norm of a vector](#1.2-Vector-norm).\n",
    ">\n",
    "> You get **3 ⭐️s** if you solve this using a calculator and **5 ⭐️s** if you can solve it without a calculator (you may use the [unit circle](https://en.wikipedia.org/wiki/Unit_circle) below)."
   ]
  },
  {
   "cell_type": "markdown",
   "metadata": {},
   "source": [
    "<img src=\"./media/unit_circle.png\" width=\"300\"/>"
   ]
  },
  {
   "cell_type": "markdown",
   "metadata": {},
   "source": [
    "Once more, all of this applies to any two vectors in any $m$-dimensional real space."
   ]
  },
  {
   "cell_type": "markdown",
   "metadata": {},
   "source": [
    "---"
   ]
  },
  {
   "cell_type": "markdown",
   "metadata": {},
   "source": [
    "#### 1.6.2 Properties of the dot product"
   ]
  },
  {
   "cell_type": "markdown",
   "metadata": {
    "deletable": false,
    "editable": false
   },
   "source": [
    "You don't need to memorize them all, just know they exist.\n",
    "\n",
    "$\\;\\;\\;\\;\\;\\text{1. }\\;\\; \\mathbf{u} \\cdot \\mathbf{u} = \\|\\mathbf{u}\\|^2$\n",
    "\n",
    "$\\;\\;\\;\\;\\;\\text{2. }\\;\\; \\mathbf{0} \\cdot \\mathbf{u} = \\mathbf{0}$\n",
    "\n",
    "$\\;\\;\\;\\;\\;\\text{3. }\\;\\; \\mathbf{u} \\cdot \\mathbf{v} = \\mathbf{v} \\cdot \\mathbf{u}$\n",
    "\n",
    "$\\;\\;\\;\\;\\;\\text{4. }\\;\\; (c \\mathbf{u}) \\cdot \\mathbf{v} = c (\\mathbf{u} \\cdot \\mathbf{v})$\n",
    "\n",
    "$\\;\\;\\;\\;\\;\\text{5. }\\;\\; \\mathbf{u} \\cdot \\mathbf{v} = \\|\\mathbf{u}\\|\\|\\mathbf{v}\\|\\cos{\\theta}$\n",
    "\n",
    "$\\;\\;\\;\\;\\;\\text{6. }\\;\\; \\mathbf{u} \\cdot (\\mathbf{v} + \\mathbf{w}) = \\mathbf{u} \\cdot \\mathbf{v} + \\mathbf{u} \\cdot \\mathbf{w}$\n",
    "\n",
    "\n",
    "Remember that $c$ is a scalar (non-bold lowercase letter) and $\\mathbf{u}$, $\\mathbf{v}$ and $\\mathbf{w}$ represent vectors (bold lowercase letters). Also, we have here a special vector, the **zero vector**, where all elements are equal to zero, which we denote by $\\mathbf{0}$."
   ]
  },
  {
   "cell_type": "markdown",
   "metadata": {},
   "source": [
    "If you're still unsure about dot product properties, check this [video](https://www.youtube.com/watch?v=rVQ3G9epCjw)."
   ]
  },
  {
   "cell_type": "markdown",
   "metadata": {},
   "source": [
    "### 1.7 Orthogonal vectors\n",
    "---"
   ]
  },
  {
   "cell_type": "markdown",
   "metadata": {},
   "source": [
    "\n",
    "<div class=\"alert alert-block alert-info\">\n",
    "    Two vectors $\\mathbf{u}$ and $\\mathbf{v}$ are said to be <b>orthogonal</b> if their dot product is equal to zero: $\\;\\;\\mathbf{u}\\cdot \\mathbf{v} = \\mathbf{0}$\n",
    "</div>"
   ]
  },
  {
   "cell_type": "markdown",
   "metadata": {},
   "source": [
    "If we think about the formula $\\mathbf{u} \\cdot \\mathbf{v} = \\|v\\|\\|u\\|\\cos{\\theta}$, we see that $\\|u\\|\\cos{\\theta}$ (projection of vector $\\mathbf{u}$ onto $\\mathbf{v}$) fits in a point at the tail of $\\mathbf{v}$, having magnitude zero:\n",
    "\n",
    "<img src=\"./media/orthogonal_vectors.PNG\" width=\"200\"/>"
   ]
  },
  {
   "cell_type": "markdown",
   "metadata": {},
   "source": [
    "> 📝 **Pen and paper exercise 7**: Determine the dot product between vectors $[1,0]$ and $[0,-2]$. Are they orthogonal?"
   ]
  },
  {
   "cell_type": "markdown",
   "metadata": {},
   "source": [
    "---"
   ]
  },
  {
   "cell_type": "markdown",
   "metadata": {},
   "source": [
    "### 1.8 Vectors recap"
   ]
  },
  {
   "cell_type": "markdown",
   "metadata": {},
   "source": [
    "1. Vectors can be represented as **ordered lists of scalars**. They have both **magnitude and direction**;\n",
    "\n",
    "2. The **transpose** of the row vector is a column vector, and vice-versa;\n",
    "\n",
    "3. The **norm**/magnitude/length of an $m$-dimensional vector $\\mathbf{x}$ is given by $\\| \\mathbf{x}\\| = \\sqrt{x_1^2 + x_2^2 + ... + x_m^2}$;\n",
    "\n",
    "4. We can represent the set of all $m$-dimensional vectors using linear combinations of $m$ linearly independent vectors (also $m$-dimensional);\n",
    "\n",
    "5. Several properties of addition and multiplication by scalars are generalizable for vectors, such as commutativity, associativity and distributivity;\n",
    "\n",
    "6. The **dot product** between two vectors, $\\mathbf{u} \\cdot \\mathbf{v}$, can be defined in 2 equivalent manners:  \n",
    "  (i)  $\\mathbf{u} \\cdot \\mathbf{v} = \\|u\\|\\|v\\|\\cos{\\theta}$, where $\\theta$ refers to the angle between $\\mathbf{u}$ and $\\mathbf{v}$, or  \n",
    "  (ii)  $\\mathbf{u} \\cdot \\mathbf{v} = u_1 v_1 + u_2  v_2 + ... + u_m v_m.$"
   ]
  },
  {
   "cell_type": "markdown",
   "metadata": {},
   "source": [
    "---"
   ]
  },
  {
   "cell_type": "markdown",
   "metadata": {},
   "source": [
    "Break time!\n",
    "\n",
    "Look through your window and watch the world outside. You were blind and now you see: everywhere there are vectors, everywhere there is linear algebra...\n",
    "\n",
    "<img src=\"./media/pause_time.gif\" width=\"420\"/>\n",
    "\n",
    "See you soon!"
   ]
  },
  {
   "cell_type": "markdown",
   "metadata": {},
   "source": [
    "---"
   ]
  },
  {
   "cell_type": "markdown",
   "metadata": {},
   "source": [
    "## 2. Introduction to NumPy arrays\n",
    "---"
   ]
  },
  {
   "cell_type": "markdown",
   "metadata": {},
   "source": [
    "No old school pen and paper on this section!! Time to put Python and your machine to work. 💻🐍"
   ]
  },
  {
   "cell_type": "markdown",
   "metadata": {},
   "source": [
    "### 2.1 The NumPy package\n",
    "---"
   ]
  },
  {
   "cell_type": "markdown",
   "metadata": {},
   "source": [
    "You might have noticed that we have imported a package at the beginning of the notebook, which goes by the name of ``numpy``:\n",
    "\n",
    "```python\n",
    "# it is a widespread convention to import numpy using the alias np\n",
    "# this convention makes your code more readable, so do use it\n",
    "import numpy as np\n",
    "```\n",
    "\n",
    "`numpy` is commonly imported with the alias `np`. This means that every time we instantiate a new object from NumPy, call a NumPy function or use a module from it, we'll use `np` instead of `numpy`. I know it's fun to be different, and make up your own aliases, but for other's sake, please use the standard alias, which is `np`.\n",
    "\n",
    "[NumPy](https://numpy.org/) is the fundamental package for scientific computing with Python. Among many other amazing possibilities, it allows us to work efficiently with vectors and matrices, performing lots of linear algebra operations.\n",
    "\n",
    "In the `requirements.txt` file, you can see that we are using version 1.20 of NumPy. A detailed reference documentation of the functions and classes contained in this package is available in the [NumPy reference](https://numpy.org/doc/1.20/reference/index.html) webpage. You can also download the [pdf version](https://numpy.org/doc/1.20/numpy-ref.pdf) here."
   ]
  },
  {
   "cell_type": "markdown",
   "metadata": {},
   "source": [
    "#### 2.1.1 I have lists in Python. Why do I even need NumPy?"
   ]
  },
  {
   "cell_type": "markdown",
   "metadata": {},
   "source": [
    "You might remember lists from SLU04. You already know that you can represent a vector by an ordered list, as follows\n",
    "\n",
    "```python\n",
    "u = [2, -1, 0, 2, 0.4, 3, 6, 0, 1]  # 9-dimensional vector\n",
    "```"
   ]
  },
  {
   "cell_type": "markdown",
   "metadata": {},
   "source": [
    "Using Python lists and for loops, we could implement some basic operations. At first, you might think this is a reasonable approach for small tasks such as linear combinations of vectors (recall [section 1.4](#1.4-Linear-combinations-and-linear-independence)). But is it?"
   ]
  },
  {
   "cell_type": "markdown",
   "metadata": {},
   "source": [
    "Let's run a simulation to compare using Python lists versus using NumPy (do not worry about the code behind this)."
   ]
  },
  {
   "cell_type": "markdown",
   "metadata": {},
   "source": [
    "We'll see how long it would take to compute a simple linear combination of the form $2\\mathbf{u} + 2\\mathbf{v}$ between two vectors of length $10^{6}$, using NumPy *versus* Python lists."
   ]
  },
  {
   "cell_type": "markdown",
   "metadata": {},
   "source": [
    "**Creating a linear combination using NumPy**"
   ]
  },
  {
   "cell_type": "code",
   "execution_count": 4,
   "metadata": {},
   "outputs": [
    {
     "name": "stdout",
     "output_type": "stream",
     "text": [
      "Using NumPy arrays we took 0.011 seconds to perform a linear combination.\n"
     ]
    }
   ],
   "source": [
    "# perform linear combination using NumPy magic\n",
    "numpy_duration = utils.lincomb_numpy()\n",
    "\n",
    "print(\"Using NumPy arrays we took {:.2} seconds to perform a linear combination.\".format(numpy_duration)) "
   ]
  },
  {
   "cell_type": "markdown",
   "metadata": {},
   "source": [
    "**Creating a linear combination using Python lists and `for` loops**"
   ]
  },
  {
   "cell_type": "code",
   "execution_count": 5,
   "metadata": {},
   "outputs": [
    {
     "name": "stdout",
     "output_type": "stream",
     "text": [
      "Using Python lists we took 0.06 seconds to perform a linear combination.\n"
     ]
    }
   ],
   "source": [
    "# perform linear combination using Python lists and for loops\n",
    "python_duration = utils.lincomb_lists()\n",
    "\n",
    "print(\"Using Python lists we took {:.2} seconds to perform a linear combination.\".format(python_duration)) "
   ]
  },
  {
   "cell_type": "markdown",
   "metadata": {},
   "source": [
    "How much faster was NumPy?..."
   ]
  },
  {
   "cell_type": "code",
   "execution_count": 6,
   "metadata": {
    "scrolled": true
   },
   "outputs": [
    {
     "name": "stdout",
     "output_type": "stream",
     "text": [
      "Python lists approach was 5 times SLOWER than NumPy!!\n"
     ]
    }
   ],
   "source": [
    "print(\"Python lists approach was {} times SLOWER than NumPy!!\".format(int(python_duration/numpy_duration)))"
   ]
  },
  {
   "cell_type": "markdown",
   "metadata": {},
   "source": [
    "This might look like a small difference at first sight, but as you start to scale your analysis it will become a difference of minutes and hours...\n",
    "\n",
    "Ain't nobody got time for that!!\n",
    "\n",
    "Other than being much faster, NumPy is also awesome because:\n",
    " - It uses less memory to store the same amount of data\n",
    " - It interfaces with libraries you'll probaby use in Data Science, such as Pandas, Scikit-learn, Matplotlib and many others;\n",
    " - It supports a great variety of numerical types;\n",
    " - It has a comprehensive list of [functions, modules and objects](https://numpy.org/doc/1.20/reference/index.html) useful for linear algebra.\n",
    " \n",
    "By the way, now is the time to start getting comfortable reading documentation. You can either:\n",
    " - refer to documentation pages (for example, you could consult the [documentation webpage for version 1.20.0 of NumPy](https://numpy.org/doc/1.20/) to check its functionalities);\n",
    " - access the docstring using `?` inside a jupyter cell."
   ]
  },
  {
   "cell_type": "code",
   "execution_count": 42,
   "metadata": {},
   "outputs": [
    {
     "data": {
      "text/plain": [
       "\u001b[31mSignature:\u001b[39m print(*args, sep=\u001b[33m' '\u001b[39m, end=\u001b[33m'\\n'\u001b[39m, file=\u001b[38;5;28;01mNone\u001b[39;00m, flush=\u001b[38;5;28;01mFalse\u001b[39;00m)\n",
       "\u001b[31mDocstring:\u001b[39m\n",
       "Prints the values to a stream, or to sys.stdout by default.\n",
       "\n",
       "sep\n",
       "  string inserted between values, default a space.\n",
       "end\n",
       "  string appended after the last value, default a newline.\n",
       "file\n",
       "  a file-like object (stream); defaults to the current sys.stdout.\n",
       "flush\n",
       "  whether to forcibly flush the stream.\n",
       "\u001b[31mType:\u001b[39m      builtin_function_or_method"
      ]
     },
     "metadata": {},
     "output_type": "display_data"
    }
   ],
   "source": [
    "# write the name of the function followed by a quotation mark\n",
    "# The docstring with basic information on the function\n",
    "# should appear at the lower part of your browser when you run this cell\n",
    "print?"
   ]
  },
  {
   "cell_type": "markdown",
   "metadata": {},
   "source": [
    "<img src=\"./media/racoon.png\"/>"
   ]
  },
  {
   "cell_type": "markdown",
   "metadata": {},
   "source": [
    "You can close the pager with the docstring when you're done."
   ]
  },
  {
   "cell_type": "markdown",
   "metadata": {},
   "source": [
    "### 2.2 The `ndarray`\n",
    "---"
   ]
  },
  {
   "cell_type": "markdown",
   "metadata": {},
   "source": [
    "The main object in NumPy is the [NumPy array](https://numpy.org/doc/1.20/reference/arrays.ndarray.html), or simply `ndarray`. An ndarray is a collection of items, all of the same size and type. You can think of arrays as tables (2 dimensions), but you can actually have arrays of 3, 4 or 5 dimensions, and so on. Here we'll deal mainly with ndarrays of 1 or 2 dimensions, where the items stored are numbers."
   ]
  },
  {
   "cell_type": "markdown",
   "metadata": {},
   "source": [
    "#### 2.2.1 Create an `ndarray`"
   ]
  },
  {
   "cell_type": "markdown",
   "metadata": {},
   "source": [
    "Let's create an array to represent a vector, using [np.array()](https://numpy.org/doc/1.20/reference/generated/numpy.array.html):"
   ]
  },
  {
   "cell_type": "code",
   "execution_count": 8,
   "metadata": {
    "scrolled": true
   },
   "outputs": [
    {
     "data": {
      "text/plain": [
       "array([0, 1, 2])"
      ]
     },
     "execution_count": 8,
     "metadata": {},
     "output_type": "execute_result"
    }
   ],
   "source": [
    "u = [0, 1, 2]  # this is a Python list representing a vector\n",
    "a = np.array(u)  # create a NumPy array object using the Python list above\n",
    "a"
   ]
  },
  {
   "cell_type": "markdown",
   "metadata": {},
   "source": [
    "You can also create a table of numbers (a matrix) from a list of lists, using `np.array()`:"
   ]
  },
  {
   "cell_type": "code",
   "execution_count": 9,
   "metadata": {},
   "outputs": [
    {
     "name": "stdout",
     "output_type": "stream",
     "text": [
      "[[0 1 2]\n",
      " [3 4 5]\n",
      " [6 7 8]]\n"
     ]
    }
   ],
   "source": [
    "# notice we input 1 list with 3 lists in it\n",
    "b = np.array([[0, 1, 2],  # 1st row\n",
    "              [3, 4, 5],  # 2nd row\n",
    "              [6, 7, 8]])  # 3rd row\n",
    "print(b)  # you can use Python's built-in function print() to print an array"
   ]
  },
  {
   "cell_type": "markdown",
   "metadata": {},
   "source": [
    "#### 2.2.2 Dimensions and shape of an array"
   ]
  },
  {
   "cell_type": "markdown",
   "metadata": {},
   "source": [
    "If you are to manipulate arrays correctly, you definitely need to know what **shape** and **dimension** mean in terms of NumPy arrays."
   ]
  },
  {
   "cell_type": "markdown",
   "metadata": {},
   "source": [
    "**a) Number of array dimensions**"
   ]
  },
  {
   "cell_type": "markdown",
   "metadata": {},
   "source": [
    "Let's start by checking the array dimensions of `a`, which represents a 3-dimensional vector, using the attribute **`ndim`**:"
   ]
  },
  {
   "cell_type": "code",
   "execution_count": 10,
   "metadata": {},
   "outputs": [
    {
     "data": {
      "text/plain": [
       "1"
      ]
     },
     "execution_count": 10,
     "metadata": {},
     "output_type": "execute_result"
    }
   ],
   "source": [
    "a = np.array([0, 1, 2])  # a 3-dimensional row vector\n",
    "a.ndim  # number of array dimensions"
   ]
  },
  {
   "cell_type": "markdown",
   "metadata": {},
   "source": [
    "Wait, what?! Our array has 1 dimension?... But our vector is 3-dimensional!... What's happening?"
   ]
  },
  {
   "cell_type": "markdown",
   "metadata": {},
   "source": [
    "Similarly to when you nest a list inside another list, which is inside another list, and so on... you can also create as many *axes* (**array dimensions**) in arrays as you wish. You could access the first axis (*axis 0*) with the first pair of brackets `[]`, the second axis (*axis 1*) with the second pair of brackets `[]`, and so on.\n",
    "\n",
    "<img src=\"./media/array_axes.png\" width=\"500\"/>\n"
   ]
  },
  {
   "cell_type": "markdown",
   "metadata": {},
   "source": [
    "So we can store any number of elements in a 1-dimensional ndarray:\n",
    "- vector: `[1, 2, 3, 4]` has 4 dimensions, but we can store it in a 1D array, `np.array([1, 2, 3, 4])`  \n",
    "- vector: `[1, 2, 3, 4, 0, 0, 1]` has 7 dimensions, but we can store it in a 1D array, `np.array([1, 2, 3, 4, 0, 0, 1])`  \n",
    "..."
   ]
  },
  {
   "cell_type": "markdown",
   "metadata": {},
   "source": [
    "A 2D array (2 dimensions) has 2 axes. You can think of it as a table of numbers (matrix):"
   ]
  },
  {
   "cell_type": "code",
   "execution_count": 11,
   "metadata": {
    "scrolled": true
   },
   "outputs": [
    {
     "data": {
      "text/plain": [
       "2"
      ]
     },
     "execution_count": 11,
     "metadata": {},
     "output_type": "execute_result"
    }
   ],
   "source": [
    "# you can think of b as a table (matrix) represented by a numpy array\n",
    "b = np.array(\n",
    "    [[0, 1, 2],\n",
    "     [3, 4, 5],\n",
    "     [6, 7, 8]]\n",
    ")\n",
    "b.ndim  # b is a 2D array"
   ]
  },
  {
   "cell_type": "markdown",
   "metadata": {},
   "source": [
    "We can access the first row in the table like this:"
   ]
  },
  {
   "cell_type": "code",
   "execution_count": 12,
   "metadata": {},
   "outputs": [
    {
     "data": {
      "text/plain": [
       "array([0, 1, 2])"
      ]
     },
     "execution_count": 12,
     "metadata": {},
     "output_type": "execute_result"
    }
   ],
   "source": [
    "b[0]  # access 1st row in b"
   ]
  },
  {
   "cell_type": "markdown",
   "metadata": {},
   "source": [
    "We can access the second element of the first row in the table as follows:"
   ]
  },
  {
   "cell_type": "code",
   "execution_count": 13,
   "metadata": {},
   "outputs": [
    {
     "data": {
      "text/plain": [
       "np.int64(1)"
      ]
     },
     "execution_count": 13,
     "metadata": {},
     "output_type": "execute_result"
    }
   ],
   "source": [
    "b[0][1]  # access 2nd element of the 1st row in b"
   ]
  },
  {
   "cell_type": "markdown",
   "metadata": {},
   "source": [
    "We can't access a third dimension because the array is 2D. Thus, the following command will throw an `IndexError` (which we'll catch, because we're awesome):"
   ]
  },
  {
   "cell_type": "code",
   "execution_count": 14,
   "metadata": {},
   "outputs": [
    {
     "name": "stdout",
     "output_type": "stream",
     "text": [
      "IndexError: invalid index to scalar variable.\n"
     ]
    }
   ],
   "source": [
    "# trying to access an element in the 3rd axis of a 2D array does not compute\n",
    "try:\n",
    "    b[0][2][0]\n",
    "except IndexError as e:\n",
    "    print(\"IndexError:\", e)"
   ]
  },
  {
   "cell_type": "markdown",
   "metadata": {},
   "source": [
    "**Represent a row vector vs. its transpose in an ndarray**"
   ]
  },
  {
   "cell_type": "markdown",
   "metadata": {},
   "source": [
    "We can represent a column vector with a 2D array (2 axes):"
   ]
  },
  {
   "cell_type": "code",
   "execution_count": 15,
   "metadata": {},
   "outputs": [
    {
     "data": {
      "text/plain": [
       "2"
      ]
     },
     "execution_count": 15,
     "metadata": {},
     "output_type": "execute_result"
    }
   ],
   "source": [
    "a = np.array([[0],\n",
    "              [1],\n",
    "              [2]])  # a 2D numpy array, a 3-dimensional COLUMN vector\n",
    "a.ndim  # number of array dimensions"
   ]
  },
  {
   "cell_type": "markdown",
   "metadata": {},
   "source": [
    "Notice the difference between a 1D array:"
   ]
  },
  {
   "cell_type": "code",
   "execution_count": 16,
   "metadata": {},
   "outputs": [
    {
     "data": {
      "text/plain": [
       "array([0, 1, 2])"
      ]
     },
     "execution_count": 16,
     "metadata": {},
     "output_type": "execute_result"
    }
   ],
   "source": [
    "np.array([0, 1, 2])"
   ]
  },
  {
   "cell_type": "markdown",
   "metadata": {},
   "source": [
    "and a 2D array with the same elements:"
   ]
  },
  {
   "cell_type": "code",
   "execution_count": 17,
   "metadata": {},
   "outputs": [
    {
     "data": {
      "text/plain": [
       "array([[0, 1, 2]])"
      ]
     },
     "execution_count": 17,
     "metadata": {},
     "output_type": "execute_result"
    }
   ],
   "source": [
    "np.array([[0, 1, 2]])"
   ]
  },
  {
   "cell_type": "markdown",
   "metadata": {},
   "source": [
    "In the 2D array, we have one extra outside square bracket (just like in a nested list)."
   ]
  },
  {
   "cell_type": "markdown",
   "metadata": {},
   "source": [
    "**b) Shape of an array**"
   ]
  },
  {
   "cell_type": "markdown",
   "metadata": {},
   "source": [
    "The other attribute you should understand is the **shape** of the array.  An array's shape is a *tuple of integers* which indicates the size of the array in each dimension (axis). Hence, for a table (matrix) with $m$ rows and $n$ columns, the shape will be $(m, n)$.\n",
    "\n",
    "The length of the shape tuple corresponds to the number of axes, given by `.ndim`, as we just saw."
   ]
  },
  {
   "cell_type": "code",
   "execution_count": 18,
   "metadata": {
    "scrolled": true
   },
   "outputs": [
    {
     "data": {
      "text/plain": [
       "(3, 1)"
      ]
     },
     "execution_count": 18,
     "metadata": {},
     "output_type": "execute_result"
    }
   ],
   "source": [
    "a = np.array([[0],\n",
    "              [1],\n",
    "              [2]])  # same vector as in the last code cell\n",
    "a.shape  # shape of the array (number of elements in axis 0, number of elements in axis 1)"
   ]
  },
  {
   "cell_type": "markdown",
   "metadata": {},
   "source": [
    "Above, we see that axis 0 has size 3 (3 rows in the column vector) and axis 1 has size 1 (1 column).\n",
    "\n",
    "Luckily for us, we won't need more than 2 dimensions to represent vectors and matrices."
   ]
  },
  {
   "cell_type": "markdown",
   "metadata": {},
   "source": [
    "---"
   ]
  },
  {
   "cell_type": "markdown",
   "metadata": {},
   "source": [
    "Notice that the underlying class which creates the NumPy array is the class `numpy.ndarray`. However, it is advisable to construct arrays using its built-in functions, such as `array`, `zeros` or `ones`.\n",
    "\n",
    "For simplicity, we'll refer to NumPy arrays and arrays interchangeably throughout this notebook (note that these are **not** the Python [`array.array`](https://www.tutorialspoint.com/python/python_arrays.htm) objects).\n",
    "\n",
    "```Python\n",
    "if (student.question == \"What is a class?\") or (student.question == \"What is an object?\"):\n",
    "    print(\"How dare you?! You go review SLU09!\")\n",
    "```\n",
    "\n",
    "You can check a quick explanation of `ndarrays` [here](https://www.tutorialspoint.com/numpy/numpy_ndarray_object.htm)."
   ]
  },
  {
   "cell_type": "markdown",
   "metadata": {},
   "source": [
    "---"
   ]
  },
  {
   "cell_type": "markdown",
   "metadata": {},
   "source": [
    "### 2.3 Vectors and linear algebra using NumPy"
   ]
  },
  {
   "cell_type": "markdown",
   "metadata": {},
   "source": [
    "Time to have some fun! Let's put all the knowledge we gathered about vectors to use."
   ]
  },
  {
   "cell_type": "markdown",
   "metadata": {},
   "source": [
    "#### 2.3.1 Representing vectors with ndarrays: transpose, `reshape()`"
   ]
  },
  {
   "cell_type": "markdown",
   "metadata": {},
   "source": [
    "Remember learning that the transpose of a row vector is a column vector and vice-versa? NumPy has the transpose implemented as an attribute of arrays.\n",
    "\n",
    "If we start with a 4-dimensional column vector, represented by an array of shape `(4, 1)`, we'll have `2` axes (`.ndim` = 2):"
   ]
  },
  {
   "cell_type": "code",
   "execution_count": 19,
   "metadata": {},
   "outputs": [
    {
     "name": "stdout",
     "output_type": "stream",
     "text": [
      "a:\n",
      " [[0]\n",
      " [1]\n",
      " [2]\n",
      " [3]] \n",
      "\n",
      "a.shape: (4, 1)\n",
      "a.ndim: 2\n"
     ]
    }
   ],
   "source": [
    "a = np.array([[0], \n",
    "              [1], \n",
    "              [2], \n",
    "              [3]])  # a 4-dimensional column vector\n",
    "print(\"a:\\n\", a, \"\\n\")\n",
    "print(\"a.shape:\", a.shape)\n",
    "print(\"a.ndim:\", a.ndim)"
   ]
  },
  {
   "cell_type": "markdown",
   "metadata": {},
   "source": [
    "Getting the attribute `.T` (for transpose) of the array will return a row vector represented by a 2D array, just as we expected:"
   ]
  },
  {
   "cell_type": "code",
   "execution_count": 20,
   "metadata": {},
   "outputs": [
    {
     "name": "stdout",
     "output_type": "stream",
     "text": [
      "a_T: [[0 1 2 3]] \n",
      "\n",
      "a_T.shape: (1, 4)\n",
      "a_T.ndim: 2\n"
     ]
    }
   ],
   "source": [
    "a_T = a.T  # the transpose of a\n",
    "print(\"a_T:\", a_T, \"\\n\")\n",
    "print(\"a_T.shape:\", a_T.shape)\n",
    "print(\"a_T.ndim:\", a.ndim)"
   ]
  },
  {
   "cell_type": "markdown",
   "metadata": {},
   "source": [
    "**What would happen if you used a 1D array?**"
   ]
  },
  {
   "cell_type": "markdown",
   "metadata": {},
   "source": [
    "If we try to transpose an array with only 1 dimension (thus the tuple shape has only 1 element), we get exactly the same shape!!"
   ]
  },
  {
   "cell_type": "code",
   "execution_count": 21,
   "metadata": {},
   "outputs": [
    {
     "name": "stdout",
     "output_type": "stream",
     "text": [
      "shape of 1D array:  (4,)\n",
      "shape of the transpose of 1D array:  (4,)\n"
     ]
    }
   ],
   "source": [
    "print(\"shape of 1D array: \", np.array([0,1,2,3]).shape)\n",
    "print(\"shape of the transpose of 1D array: \", np.array([0,1,2,3]).T.shape)"
   ]
  },
  {
   "cell_type": "markdown",
   "metadata": {},
   "source": [
    "For a 1D array, we cannot get the transpose of our vector using `.T`!"
   ]
  },
  {
   "cell_type": "markdown",
   "metadata": {},
   "source": [
    "---"
   ]
  },
  {
   "cell_type": "markdown",
   "metadata": {},
   "source": [
    "#### `reshape()`"
   ]
  },
  {
   "cell_type": "markdown",
   "metadata": {},
   "source": [
    "The `reshape` method allows you to reshape an array of data to any given shape."
   ]
  },
  {
   "cell_type": "markdown",
   "metadata": {},
   "source": [
    "For example, for the 1-dimensional array below, `array_1d`, with 6 elements (shape = `(6,)`)..."
   ]
  },
  {
   "cell_type": "code",
   "execution_count": 22,
   "metadata": {},
   "outputs": [
    {
     "name": "stdout",
     "output_type": "stream",
     "text": [
      "[0 1 2 3 4 5]\n",
      "shape:  (6,)\n"
     ]
    }
   ],
   "source": [
    "array_1d = np.array([0, 1, 2, 3, 4, 5])  # 1-dimensional array, with 6 elements, shape is (6, )\n",
    "print(array_1d)\n",
    "print(\"shape: \", array_1d.shape)"
   ]
  },
  {
   "cell_type": "markdown",
   "metadata": {},
   "source": [
    "...we can reshape it to a 2-dimensional array with the **same** 6 elements, displayed in a 2-dimensional array of shape `(3, 2)`:"
   ]
  },
  {
   "cell_type": "code",
   "execution_count": 23,
   "metadata": {
    "scrolled": true
   },
   "outputs": [
    {
     "name": "stdout",
     "output_type": "stream",
     "text": [
      "[[0 1]\n",
      " [2 3]\n",
      " [4 5]]\n",
      "shape:  (3, 2)\n"
     ]
    }
   ],
   "source": [
    "array_reshaped = array_1d.reshape((3, 2))  # reshape to a table!\n",
    "print(array_reshaped)\n",
    "print(\"shape: \", array_reshaped.shape)"
   ]
  },
  {
   "cell_type": "markdown",
   "metadata": {},
   "source": [
    "We can't however reshape to a shape which is not compatible with the number of elements we have (say, for example, `(4, 2)`):"
   ]
  },
  {
   "cell_type": "code",
   "execution_count": 24,
   "metadata": {},
   "outputs": [
    {
     "name": "stdout",
     "output_type": "stream",
     "text": [
      "ValueError: cannot reshape array of size 6 into shape (4,2)\n"
     ]
    }
   ],
   "source": [
    "# we can't reshape to a table with 8 entries 'cause we only have 6 elements in the array!\n",
    "# we'll just catch that ValueError, that NumPy will throw at us, flawlessly\n",
    "try:\n",
    "    array_1d.reshape((4, 2))\n",
    "except ValueError as e:\n",
    "    print(\"ValueError:\", e)"
   ]
  },
  {
   "cell_type": "markdown",
   "metadata": {},
   "source": [
    "---"
   ]
  },
  {
   "cell_type": "markdown",
   "metadata": {},
   "source": [
    "**Creating row and column vectors with `reshape()`**"
   ]
  },
  {
   "cell_type": "markdown",
   "metadata": {},
   "source": [
    "To **get the transpose of a vector represented by a 1D array in NumPy**, we would need to **first reshape** the array to 2D, using `.reshape()`, with argument `(1, -1)`, to get a **row vector**, or `(-1, 1)` to get a **column vector**."
   ]
  },
  {
   "cell_type": "markdown",
   "metadata": {},
   "source": [
    "Consider a 1-dimensional array representing a 4-dimensional vector:"
   ]
  },
  {
   "cell_type": "code",
   "execution_count": 25,
   "metadata": {},
   "outputs": [
    {
     "data": {
      "text/plain": [
       "(4,)"
      ]
     },
     "execution_count": 25,
     "metadata": {},
     "output_type": "execute_result"
    }
   ],
   "source": [
    "a = np.array([0,1,2,3])  # vector represented by a 1D array\n",
    "a.shape  # shape of array a"
   ]
  },
  {
   "cell_type": "markdown",
   "metadata": {},
   "source": [
    "We can convert this 1D array to a 2D array row vector using `reshape()` with argument `(1, -1)`:"
   ]
  },
  {
   "cell_type": "code",
   "execution_count": 26,
   "metadata": {},
   "outputs": [
    {
     "name": "stdout",
     "output_type": "stream",
     "text": [
      "a_row:\n",
      " [[0 1 2 3]] \n",
      "\n",
      "a_row.shape: (1, 4)\n"
     ]
    }
   ],
   "source": [
    "a_row = a.reshape((1, -1))  # use reshape to get a 2D array representation of a row vector\n",
    "print(\"a_row:\\n\", a_row, \"\\n\")\n",
    "print(\"a_row.shape:\", a_row.shape)"
   ]
  },
  {
   "cell_type": "markdown",
   "metadata": {},
   "source": [
    "We could also convert it directly to a column vector using `reshape()` with argument `(-1, 1)`:"
   ]
  },
  {
   "cell_type": "code",
   "execution_count": 27,
   "metadata": {
    "scrolled": true
   },
   "outputs": [
    {
     "name": "stdout",
     "output_type": "stream",
     "text": [
      "a_column:\n",
      " [[0]\n",
      " [1]\n",
      " [2]\n",
      " [3]] \n",
      "\n",
      "a_column.shape: (4, 1)\n"
     ]
    }
   ],
   "source": [
    "a_column = a.reshape((-1, 1))  # use reshape to get a 2D array representation of a column vector\n",
    "print(\"a_column:\\n\", a_column, \"\\n\")\n",
    "print(\"a_column.shape:\", a_column.shape)"
   ]
  },
  {
   "cell_type": "markdown",
   "metadata": {},
   "source": [
    "Because we now have our vector in a 2D array, we could use the transpose attribute safely:"
   ]
  },
  {
   "cell_type": "code",
   "execution_count": 28,
   "metadata": {},
   "outputs": [
    {
     "name": "stdout",
     "output_type": "stream",
     "text": [
      "[[0 1 2 3]]\n"
     ]
    }
   ],
   "source": [
    "# same result\n",
    "print(a_column.T)"
   ]
  },
  {
   "cell_type": "markdown",
   "metadata": {},
   "source": [
    "> 📌 **Tip**: Errors due to incompatible NumPy shapes and dimensions are a very common issue when using libraries which build on the `ndarray` object, such as some data science libraries you'll learn about. But since you're now aware of the difference between dimension and shape in ndarrays, you'll be much quicker to stop and debug such issues later on!"
   ]
  },
  {
   "cell_type": "markdown",
   "metadata": {},
   "source": [
    "---"
   ]
  },
  {
   "cell_type": "markdown",
   "metadata": {},
   "source": [
    "NumPy also has a module called [`numpy.linalg`](https://numpy.org/doc/1.20/reference/routines.linalg.html), which is entirely dedicated to linear algebra operations. How amazing is that?"
   ]
  },
  {
   "cell_type": "markdown",
   "metadata": {},
   "source": [
    "#### 2.3.2 Vector norm using [`numpy.linalg.norm()`](https://numpy.org/doc/1.20/reference/generated/numpy.linalg.norm.html)"
   ]
  },
  {
   "cell_type": "markdown",
   "metadata": {},
   "source": [
    "[Just like most humans](https://vimeo.com/379750591), vectors always conform to the norm (recall section [1.2 Vector norm](#1.2-Vector-norm)):\n",
    "\n",
    "$$\\|\\mathbf{u}\\| = \\sqrt{u_1^2 + u_2^2 + ... + u_m^2} = \\sqrt{\\sum_{i}^{m} u_i^2}$$"
   ]
  },
  {
   "cell_type": "code",
   "execution_count": 44,
   "metadata": {},
   "outputs": [
    {
     "data": {
      "text/plain": [
       "\u001b[31mSignature:\u001b[39m       np.linalg.norm(x, ord=\u001b[38;5;28;01mNone\u001b[39;00m, axis=\u001b[38;5;28;01mNone\u001b[39;00m, keepdims=\u001b[38;5;28;01mFalse\u001b[39;00m)\n",
       "\u001b[31mCall signature:\u001b[39m  np.linalg.norm(*args, **kwargs)\n",
       "\u001b[31mType:\u001b[39m            _ArrayFunctionDispatcher\n",
       "\u001b[31mString form:\u001b[39m     <function norm at 0x106f91080>\n",
       "\u001b[31mFile:\u001b[39m            ~/.virtualenvs/prep-venv/lib/python3.12/site-packages/numpy/linalg/_linalg.py\n",
       "\u001b[31mDocstring:\u001b[39m      \n",
       "Matrix or vector norm.\n",
       "\n",
       "This function is able to return one of eight different matrix norms,\n",
       "or one of an infinite number of vector norms (described below), depending\n",
       "on the value of the ``ord`` parameter.\n",
       "\n",
       "Parameters\n",
       "----------\n",
       "x : array_like\n",
       "    Input array.  If `axis` is None, `x` must be 1-D or 2-D, unless `ord`\n",
       "    is None. If both `axis` and `ord` are None, the 2-norm of\n",
       "    ``x.ravel`` will be returned.\n",
       "ord : {int, float, inf, -inf, 'fro', 'nuc'}, optional\n",
       "    Order of the norm (see table under ``Notes`` for what values are\n",
       "    supported for matrices and vectors respectively). inf means numpy's\n",
       "    `inf` object. The default is None.\n",
       "axis : {None, int, 2-tuple of ints}, optional.\n",
       "    If `axis` is an integer, it specifies the axis of `x` along which to\n",
       "    compute the vector norms.  If `axis` is a 2-tuple, it specifies the\n",
       "    axes that hold 2-D matrices, and the matrix norms of these matrices\n",
       "    are computed.  If `axis` is None then either a vector norm (when `x`\n",
       "    is 1-D) or a matrix norm (when `x` is 2-D) is returned. The default\n",
       "    is None.\n",
       "\n",
       "keepdims : bool, optional\n",
       "    If this is set to True, the axes which are normed over are left in the\n",
       "    result as dimensions with size one.  With this option the result will\n",
       "    broadcast correctly against the original `x`.\n",
       "\n",
       "Returns\n",
       "-------\n",
       "n : float or ndarray\n",
       "    Norm of the matrix or vector(s).\n",
       "\n",
       "See Also\n",
       "--------\n",
       "scipy.linalg.norm : Similar function in SciPy.\n",
       "\n",
       "Notes\n",
       "-----\n",
       "For values of ``ord < 1``, the result is, strictly speaking, not a\n",
       "mathematical 'norm', but it may still be useful for various numerical\n",
       "purposes.\n",
       "\n",
       "The following norms can be calculated:\n",
       "\n",
       "=====  ============================  ==========================\n",
       "ord    norm for matrices             norm for vectors\n",
       "=====  ============================  ==========================\n",
       "None   Frobenius norm                2-norm\n",
       "'fro'  Frobenius norm                --\n",
       "'nuc'  nuclear norm                  --\n",
       "inf    max(sum(abs(x), axis=1))      max(abs(x))\n",
       "-inf   min(sum(abs(x), axis=1))      min(abs(x))\n",
       "0      --                            sum(x != 0)\n",
       "1      max(sum(abs(x), axis=0))      as below\n",
       "-1     min(sum(abs(x), axis=0))      as below\n",
       "2      2-norm (largest sing. value)  as below\n",
       "-2     smallest singular value       as below\n",
       "other  --                            sum(abs(x)**ord)**(1./ord)\n",
       "=====  ============================  ==========================\n",
       "\n",
       "The Frobenius norm is given by [1]_:\n",
       "\n",
       ":math:`||A||_F = [\\sum_{i,j} abs(a_{i,j})^2]^{1/2}`\n",
       "\n",
       "The nuclear norm is the sum of the singular values.\n",
       "\n",
       "Both the Frobenius and nuclear norm orders are only defined for\n",
       "matrices and raise a ValueError when ``x.ndim != 2``.\n",
       "\n",
       "References\n",
       "----------\n",
       ".. [1] G. H. Golub and C. F. Van Loan, *Matrix Computations*,\n",
       "       Baltimore, MD, Johns Hopkins University Press, 1985, pg. 15\n",
       "\n",
       "Examples\n",
       "--------\n",
       "\n",
       ">>> import numpy as np\n",
       ">>> from numpy import linalg as LA\n",
       ">>> a = np.arange(9) - 4\n",
       ">>> a\n",
       "array([-4, -3, -2, ...,  2,  3,  4])\n",
       ">>> b = a.reshape((3, 3))\n",
       ">>> b\n",
       "array([[-4, -3, -2],\n",
       "       [-1,  0,  1],\n",
       "       [ 2,  3,  4]])\n",
       "\n",
       ">>> LA.norm(a)\n",
       "7.745966692414834\n",
       ">>> LA.norm(b)\n",
       "7.745966692414834\n",
       ">>> LA.norm(b, 'fro')\n",
       "7.745966692414834\n",
       ">>> LA.norm(a, np.inf)\n",
       "4.0\n",
       ">>> LA.norm(b, np.inf)\n",
       "9.0\n",
       ">>> LA.norm(a, -np.inf)\n",
       "0.0\n",
       ">>> LA.norm(b, -np.inf)\n",
       "2.0\n",
       "\n",
       ">>> LA.norm(a, 1)\n",
       "20.0\n",
       ">>> LA.norm(b, 1)\n",
       "7.0\n",
       ">>> LA.norm(a, -1)\n",
       "-4.6566128774142013e-010\n",
       ">>> LA.norm(b, -1)\n",
       "6.0\n",
       ">>> LA.norm(a, 2)\n",
       "7.745966692414834\n",
       ">>> LA.norm(b, 2)\n",
       "7.3484692283495345\n",
       "\n",
       ">>> LA.norm(a, -2)\n",
       "0.0\n",
       ">>> LA.norm(b, -2)\n",
       "1.8570331885190563e-016 # may vary\n",
       ">>> LA.norm(a, 3)\n",
       "5.8480354764257312 # may vary\n",
       ">>> LA.norm(a, -3)\n",
       "0.0\n",
       "\n",
       "Using the `axis` argument to compute vector norms:\n",
       "\n",
       ">>> c = np.array([[ 1, 2, 3],\n",
       "...               [-1, 1, 4]])\n",
       ">>> LA.norm(c, axis=0)\n",
       "array([ 1.41421356,  2.23606798,  5.        ])\n",
       ">>> LA.norm(c, axis=1)\n",
       "array([ 3.74165739,  4.24264069])\n",
       ">>> LA.norm(c, ord=1, axis=1)\n",
       "array([ 6.,  6.])\n",
       "\n",
       "Using the `axis` argument to compute matrix norms:\n",
       "\n",
       ">>> m = np.arange(8).reshape(2,2,2)\n",
       ">>> LA.norm(m, axis=(1,2))\n",
       "array([  3.74165739,  11.22497216])\n",
       ">>> LA.norm(m[0, :, :]), LA.norm(m[1, :, :])\n",
       "(3.7416573867739413, 11.224972160321824)\n",
       "\u001b[31mClass docstring:\u001b[39m\n",
       "Class to wrap functions with checks for __array_function__ overrides.\n",
       "\n",
       "All arguments are required, and can only be passed by position.\n",
       "\n",
       "Parameters\n",
       "----------\n",
       "dispatcher : function or None\n",
       "    The dispatcher function that returns a single sequence-like object\n",
       "    of all arguments relevant.  It must have the same signature (except\n",
       "    the default values) as the actual implementation.\n",
       "    If ``None``, this is a ``like=`` dispatcher and the\n",
       "    ``_ArrayFunctionDispatcher`` must be called with ``like`` as the\n",
       "    first (additional and positional) argument.\n",
       "implementation : function\n",
       "    Function that implements the operation on NumPy arrays without\n",
       "    overrides.  Arguments passed calling the ``_ArrayFunctionDispatcher``\n",
       "    will be forwarded to this (and the ``dispatcher``) as if using\n",
       "    ``*args, **kwargs``.\n",
       "\n",
       "Attributes\n",
       "----------\n",
       "_implementation : function\n",
       "    The original implementation passed in."
      ]
     },
     "metadata": {},
     "output_type": "display_data"
    }
   ],
   "source": [
    "np.linalg.norm?"
   ]
  },
  {
   "cell_type": "markdown",
   "metadata": {},
   "source": [
    "Ok, from the docstring we see that `np.linalg.norm` expects an array. Let's determine the norm of the vector $\\begin{bmatrix}-1\\\\ 2\\end{bmatrix}$, as we did in section [1.2 Vector norm](#1.2-Vector-norm), using the Pythagorean theorem:"
   ]
  },
  {
   "cell_type": "code",
   "execution_count": 30,
   "metadata": {
    "scrolled": true
   },
   "outputs": [
    {
     "data": {
      "text/plain": [
       "np.float64(2.23606797749979)"
      ]
     },
     "execution_count": 30,
     "metadata": {},
     "output_type": "execute_result"
    }
   ],
   "source": [
    "a = np.array([[-1],\n",
    "              [2]])\n",
    "np.linalg.norm(a)"
   ]
  },
  {
   "cell_type": "markdown",
   "metadata": {},
   "source": [
    "Which is actually the square root of $5$:"
   ]
  },
  {
   "cell_type": "code",
   "execution_count": 31,
   "metadata": {},
   "outputs": [
    {
     "data": {
      "text/plain": [
       "np.float64(2.23606797749979)"
      ]
     },
     "execution_count": 31,
     "metadata": {},
     "output_type": "execute_result"
    }
   ],
   "source": [
    "# np.sqrt() computes the square root value of its input\n",
    "np.sqrt(5)"
   ]
  },
  {
   "cell_type": "markdown",
   "metadata": {},
   "source": [
    "#### 2.3.3 Vector operations (multiplication by scalars and addition)"
   ]
  },
  {
   "cell_type": "markdown",
   "metadata": {},
   "source": [
    "Remember linear combinations being about multiplying vectors by scalars and adding them together?\n",
    "\n",
    "$$c\\; \\mathbf{u} + d\\; \\mathbf{v}$$"
   ]
  },
  {
   "cell_type": "code",
   "execution_count": 32,
   "metadata": {},
   "outputs": [
    {
     "name": "stdout",
     "output_type": "stream",
     "text": [
      "u = [1 0 1 1]\n",
      "v = [ 1 -2  0  1]\n",
      "\n"
     ]
    }
   ],
   "source": [
    "# let's create two ndarrays representing 4-dimensional vectors\n",
    "u = np.array([1, 0, 1, 1])\n",
    "v = np.array([1, -2, 0, 1])\n",
    "\n",
    "# print vectors to check your lucky numbers\n",
    "print(f\"u = {u}\")\n",
    "print(f\"v = {v}\\n\")"
   ]
  },
  {
   "cell_type": "markdown",
   "metadata": {},
   "source": [
    "We can use the [numeric operators](https://docs.python.org/3/library/stdtypes.html#numeric-types-int-float-complex) we already know with NumPy."
   ]
  },
  {
   "cell_type": "code",
   "execution_count": 33,
   "metadata": {
    "deletable": false,
    "editable": false
   },
   "outputs": [
    {
     "data": {
      "text/plain": [
       "array([-0.5, -0. , -0.5, -0.5])"
      ]
     },
     "execution_count": 33,
     "metadata": {},
     "output_type": "execute_result"
    }
   ],
   "source": [
    "# multiplication by a scalar\n",
    "-(1/2) * u"
   ]
  },
  {
   "cell_type": "code",
   "execution_count": 34,
   "metadata": {
    "deletable": false,
    "editable": false
   },
   "outputs": [
    {
     "data": {
      "text/plain": [
       "array([ 2, -2,  1,  2])"
      ]
     },
     "execution_count": 34,
     "metadata": {},
     "output_type": "execute_result"
    }
   ],
   "source": [
    "# addition\n",
    "u + v"
   ]
  },
  {
   "cell_type": "code",
   "execution_count": 35,
   "metadata": {
    "deletable": false,
    "editable": false,
    "scrolled": true
   },
   "outputs": [
    {
     "data": {
      "text/plain": [
       "array([ 0.5, -2. , -0.5,  0.5])"
      ]
     },
     "execution_count": 35,
     "metadata": {},
     "output_type": "execute_result"
    }
   ],
   "source": [
    "# linear combination\n",
    "(-(1/2) * u)  + (1 * v)"
   ]
  },
  {
   "cell_type": "markdown",
   "metadata": {},
   "source": [
    "#### 2.3.4 Dot product"
   ]
  },
  {
   "cell_type": "markdown",
   "metadata": {},
   "source": [
    "Finally, the dot product:\n",
    "$$\\mathbf{u} \\cdot \\mathbf{v} = u_1 v_1 + ... + u_m v_m$$"
   ]
  },
  {
   "cell_type": "markdown",
   "metadata": {},
   "source": [
    "Let's use [`numpy.dot`](https://numpy.org/doc/1.20/reference/generated/numpy.dot.html?highlight=dot%20product) to determine the dot product of two vectors!"
   ]
  },
  {
   "cell_type": "code",
   "execution_count": 36,
   "metadata": {},
   "outputs": [
    {
     "data": {
      "text/plain": [
       "np.int64(6)"
      ]
     },
     "execution_count": 36,
     "metadata": {},
     "output_type": "execute_result"
    }
   ],
   "source": [
    "# create two vectors using numpy arrays\n",
    "u = np.array([-1, 2, 2])  # row vector, 1D array\n",
    "v = np.array([-2, 1, 1])  # row vector, 1D array\n",
    "\n",
    "# determine the dot product between vectors u and v\n",
    "np.dot(u, v)"
   ]
  },
  {
   "cell_type": "code",
   "execution_count": 37,
   "metadata": {},
   "outputs": [
    {
     "data": {
      "text/plain": [
       "array([6])"
      ]
     },
     "execution_count": 37,
     "metadata": {},
     "output_type": "execute_result"
    }
   ],
   "source": [
    "# create two vectors using numpy arrays\n",
    "u = np.array([-1, 2, 2]).reshape((1, 3))  # row vector, 2D array\n",
    "v = np.array([-2, 1, 1])  # row vector, 1D array\n",
    "\n",
    "# determine the dot product between vectors u and v\n",
    "np.dot(u, v)"
   ]
  },
  {
   "cell_type": "code",
   "execution_count": 38,
   "metadata": {},
   "outputs": [
    {
     "data": {
      "text/plain": [
       "6"
      ]
     },
     "execution_count": 38,
     "metadata": {},
     "output_type": "execute_result"
    }
   ],
   "source": [
    "# let's check those results \"by hand\", because we love linear algebra!\n",
    "((-1) * (-2)) + (2 * 1) + (2 * 1)"
   ]
  },
  {
   "cell_type": "markdown",
   "metadata": {},
   "source": [
    "---"
   ]
  },
  {
   "cell_type": "markdown",
   "metadata": {},
   "source": [
    "Great job! You already know a lot about vectors, their meaning, how to work with them, the super important concept of linear independence, NumPy arrays...\n",
    "\n",
    "This calls for a break before our next journey into the world of **matrices**!\n",
    "\n",
    "Breathe in... Breathe out... Let the **magnitude** of all this knowledge flow through you. You're just like a vector now, pointing in the **direction** of success.\n",
    "\n",
    "<img src=\"./media/breathe_in.gif\"/>"
   ]
  },
  {
   "cell_type": "markdown",
   "metadata": {},
   "source": [
    "---"
   ]
  },
  {
   "cell_type": "markdown",
   "metadata": {},
   "source": [
    "## Wrapping up"
   ]
  },
  {
   "cell_type": "markdown",
   "metadata": {},
   "source": [
    "What we've learned so far:\n",
    "- what are vectors, their properties, linear combinations and linear independence;\n",
    "- the `ndarray` and vector operations in NumPy."
   ]
  },
  {
   "cell_type": "markdown",
   "metadata": {},
   "source": [
    "After a well deserved break, don't forget to head over to Learning Notebook 2 - Matrices and NumPy!"
   ]
  },
  {
   "cell_type": "markdown",
   "metadata": {},
   "source": [
    "---"
   ]
  }
 ],
 "metadata": {
  "kernelspec": {
   "display_name": "Python 3 (ipykernel)",
   "language": "python",
   "name": "python3"
  },
  "language_info": {
   "codemirror_mode": {
    "name": "ipython",
    "version": 3
   },
   "file_extension": ".py",
   "mimetype": "text/x-python",
   "name": "python",
   "nbconvert_exporter": "python",
   "pygments_lexer": "ipython3",
   "version": "3.12.4"
  }
 },
 "nbformat": 4,
 "nbformat_minor": 4
}
